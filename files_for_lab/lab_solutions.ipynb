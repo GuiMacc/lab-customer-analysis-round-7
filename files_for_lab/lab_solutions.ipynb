{
 "cells": [
  {
   "cell_type": "code",
   "execution_count": 1,
   "id": "d32eafda-67e5-4f43-a80d-2292d6e5b55d",
   "metadata": {},
   "outputs": [],
   "source": [
    "import pandas as pd\n",
    "import numpy as np\n",
    "import math\n",
    "from sklearn.linear_model import LinearRegression"
   ]
  },
  {
   "cell_type": "code",
   "execution_count": 2,
   "id": "f11e633d-1c4f-4090-9f8a-32b353b04536",
   "metadata": {},
   "outputs": [
    {
     "data": {
      "text/html": [
       "<div>\n",
       "<style scoped>\n",
       "    .dataframe tbody tr th:only-of-type {\n",
       "        vertical-align: middle;\n",
       "    }\n",
       "\n",
       "    .dataframe tbody tr th {\n",
       "        vertical-align: top;\n",
       "    }\n",
       "\n",
       "    .dataframe thead th {\n",
       "        text-align: right;\n",
       "    }\n",
       "</style>\n",
       "<table border=\"1\" class=\"dataframe\">\n",
       "  <thead>\n",
       "    <tr style=\"text-align: right;\">\n",
       "      <th></th>\n",
       "      <th>Customer</th>\n",
       "      <th>State</th>\n",
       "      <th>Customer Lifetime Value</th>\n",
       "      <th>Response</th>\n",
       "      <th>Coverage</th>\n",
       "      <th>Education</th>\n",
       "      <th>Effective To Date</th>\n",
       "      <th>EmploymentStatus</th>\n",
       "      <th>Gender</th>\n",
       "      <th>Income</th>\n",
       "      <th>...</th>\n",
       "      <th>Months Since Policy Inception</th>\n",
       "      <th>Number of Open Complaints</th>\n",
       "      <th>Number of Policies</th>\n",
       "      <th>Policy Type</th>\n",
       "      <th>Policy</th>\n",
       "      <th>Renew Offer Type</th>\n",
       "      <th>Sales Channel</th>\n",
       "      <th>Total Claim Amount</th>\n",
       "      <th>Vehicle Class</th>\n",
       "      <th>Vehicle Size</th>\n",
       "    </tr>\n",
       "  </thead>\n",
       "  <tbody>\n",
       "    <tr>\n",
       "      <th>0</th>\n",
       "      <td>BU79786</td>\n",
       "      <td>Washington</td>\n",
       "      <td>2763.519279</td>\n",
       "      <td>No</td>\n",
       "      <td>Basic</td>\n",
       "      <td>Bachelor</td>\n",
       "      <td>2/24/11</td>\n",
       "      <td>Employed</td>\n",
       "      <td>F</td>\n",
       "      <td>56274</td>\n",
       "      <td>...</td>\n",
       "      <td>5</td>\n",
       "      <td>0</td>\n",
       "      <td>1</td>\n",
       "      <td>Corporate Auto</td>\n",
       "      <td>Corporate L3</td>\n",
       "      <td>Offer1</td>\n",
       "      <td>Agent</td>\n",
       "      <td>384.811147</td>\n",
       "      <td>Two-Door Car</td>\n",
       "      <td>Medsize</td>\n",
       "    </tr>\n",
       "    <tr>\n",
       "      <th>1</th>\n",
       "      <td>QZ44356</td>\n",
       "      <td>Arizona</td>\n",
       "      <td>6979.535903</td>\n",
       "      <td>No</td>\n",
       "      <td>Extended</td>\n",
       "      <td>Bachelor</td>\n",
       "      <td>1/31/11</td>\n",
       "      <td>Unemployed</td>\n",
       "      <td>F</td>\n",
       "      <td>0</td>\n",
       "      <td>...</td>\n",
       "      <td>42</td>\n",
       "      <td>0</td>\n",
       "      <td>8</td>\n",
       "      <td>Personal Auto</td>\n",
       "      <td>Personal L3</td>\n",
       "      <td>Offer3</td>\n",
       "      <td>Agent</td>\n",
       "      <td>1131.464935</td>\n",
       "      <td>Four-Door Car</td>\n",
       "      <td>Medsize</td>\n",
       "    </tr>\n",
       "    <tr>\n",
       "      <th>2</th>\n",
       "      <td>AI49188</td>\n",
       "      <td>Nevada</td>\n",
       "      <td>12887.431650</td>\n",
       "      <td>No</td>\n",
       "      <td>Premium</td>\n",
       "      <td>Bachelor</td>\n",
       "      <td>2/19/11</td>\n",
       "      <td>Employed</td>\n",
       "      <td>F</td>\n",
       "      <td>48767</td>\n",
       "      <td>...</td>\n",
       "      <td>38</td>\n",
       "      <td>0</td>\n",
       "      <td>2</td>\n",
       "      <td>Personal Auto</td>\n",
       "      <td>Personal L3</td>\n",
       "      <td>Offer1</td>\n",
       "      <td>Agent</td>\n",
       "      <td>566.472247</td>\n",
       "      <td>Two-Door Car</td>\n",
       "      <td>Medsize</td>\n",
       "    </tr>\n",
       "    <tr>\n",
       "      <th>3</th>\n",
       "      <td>WW63253</td>\n",
       "      <td>California</td>\n",
       "      <td>7645.861827</td>\n",
       "      <td>No</td>\n",
       "      <td>Basic</td>\n",
       "      <td>Bachelor</td>\n",
       "      <td>1/20/11</td>\n",
       "      <td>Unemployed</td>\n",
       "      <td>M</td>\n",
       "      <td>0</td>\n",
       "      <td>...</td>\n",
       "      <td>65</td>\n",
       "      <td>0</td>\n",
       "      <td>7</td>\n",
       "      <td>Corporate Auto</td>\n",
       "      <td>Corporate L2</td>\n",
       "      <td>Offer1</td>\n",
       "      <td>Call Center</td>\n",
       "      <td>529.881344</td>\n",
       "      <td>SUV</td>\n",
       "      <td>Medsize</td>\n",
       "    </tr>\n",
       "    <tr>\n",
       "      <th>4</th>\n",
       "      <td>HB64268</td>\n",
       "      <td>Washington</td>\n",
       "      <td>2813.692575</td>\n",
       "      <td>No</td>\n",
       "      <td>Basic</td>\n",
       "      <td>Bachelor</td>\n",
       "      <td>2/3/11</td>\n",
       "      <td>Employed</td>\n",
       "      <td>M</td>\n",
       "      <td>43836</td>\n",
       "      <td>...</td>\n",
       "      <td>44</td>\n",
       "      <td>0</td>\n",
       "      <td>1</td>\n",
       "      <td>Personal Auto</td>\n",
       "      <td>Personal L1</td>\n",
       "      <td>Offer1</td>\n",
       "      <td>Agent</td>\n",
       "      <td>138.130879</td>\n",
       "      <td>Four-Door Car</td>\n",
       "      <td>Medsize</td>\n",
       "    </tr>\n",
       "  </tbody>\n",
       "</table>\n",
       "<p>5 rows × 24 columns</p>\n",
       "</div>"
      ],
      "text/plain": [
       "  Customer       State  Customer Lifetime Value Response  Coverage Education  \\\n",
       "0  BU79786  Washington              2763.519279       No     Basic  Bachelor   \n",
       "1  QZ44356     Arizona              6979.535903       No  Extended  Bachelor   \n",
       "2  AI49188      Nevada             12887.431650       No   Premium  Bachelor   \n",
       "3  WW63253  California              7645.861827       No     Basic  Bachelor   \n",
       "4  HB64268  Washington              2813.692575       No     Basic  Bachelor   \n",
       "\n",
       "  Effective To Date EmploymentStatus Gender  Income  ...  \\\n",
       "0           2/24/11         Employed      F   56274  ...   \n",
       "1           1/31/11       Unemployed      F       0  ...   \n",
       "2           2/19/11         Employed      F   48767  ...   \n",
       "3           1/20/11       Unemployed      M       0  ...   \n",
       "4            2/3/11         Employed      M   43836  ...   \n",
       "\n",
       "  Months Since Policy Inception Number of Open Complaints  Number of Policies  \\\n",
       "0                             5                         0                   1   \n",
       "1                            42                         0                   8   \n",
       "2                            38                         0                   2   \n",
       "3                            65                         0                   7   \n",
       "4                            44                         0                   1   \n",
       "\n",
       "      Policy Type        Policy  Renew Offer Type  Sales Channel  \\\n",
       "0  Corporate Auto  Corporate L3            Offer1          Agent   \n",
       "1   Personal Auto   Personal L3            Offer3          Agent   \n",
       "2   Personal Auto   Personal L3            Offer1          Agent   \n",
       "3  Corporate Auto  Corporate L2            Offer1    Call Center   \n",
       "4   Personal Auto   Personal L1            Offer1          Agent   \n",
       "\n",
       "  Total Claim Amount  Vehicle Class Vehicle Size  \n",
       "0         384.811147   Two-Door Car      Medsize  \n",
       "1        1131.464935  Four-Door Car      Medsize  \n",
       "2         566.472247   Two-Door Car      Medsize  \n",
       "3         529.881344            SUV      Medsize  \n",
       "4         138.130879  Four-Door Car      Medsize  \n",
       "\n",
       "[5 rows x 24 columns]"
      ]
     },
     "metadata": {},
     "output_type": "display_data"
    }
   ],
   "source": [
    "file=pd.read_csv('csv_files/marketing_customer_analysis.csv')\n",
    "display(file.head())"
   ]
  },
  {
   "cell_type": "code",
   "execution_count": 3,
   "id": "e677c422-2c3f-4858-86e0-df98e6d1c095",
   "metadata": {},
   "outputs": [],
   "source": [
    "def low(df):\n",
    "    col=[]\n",
    "    for column in df.columns:\n",
    "        col.append(column.lower())\n",
    "    df.columns=col\n",
    "    return df.head(2)"
   ]
  },
  {
   "cell_type": "code",
   "execution_count": 4,
   "id": "8b6314f6-6f22-4345-9ab9-6afb60806320",
   "metadata": {},
   "outputs": [
    {
     "data": {
      "text/html": [
       "<div>\n",
       "<style scoped>\n",
       "    .dataframe tbody tr th:only-of-type {\n",
       "        vertical-align: middle;\n",
       "    }\n",
       "\n",
       "    .dataframe tbody tr th {\n",
       "        vertical-align: top;\n",
       "    }\n",
       "\n",
       "    .dataframe thead th {\n",
       "        text-align: right;\n",
       "    }\n",
       "</style>\n",
       "<table border=\"1\" class=\"dataframe\">\n",
       "  <thead>\n",
       "    <tr style=\"text-align: right;\">\n",
       "      <th></th>\n",
       "      <th>customer</th>\n",
       "      <th>state</th>\n",
       "      <th>customer lifetime value</th>\n",
       "      <th>response</th>\n",
       "      <th>coverage</th>\n",
       "      <th>education</th>\n",
       "      <th>effective to date</th>\n",
       "      <th>employmentstatus</th>\n",
       "      <th>gender</th>\n",
       "      <th>income</th>\n",
       "      <th>...</th>\n",
       "      <th>months since policy inception</th>\n",
       "      <th>number of open complaints</th>\n",
       "      <th>number of policies</th>\n",
       "      <th>policy type</th>\n",
       "      <th>policy</th>\n",
       "      <th>renew offer type</th>\n",
       "      <th>sales channel</th>\n",
       "      <th>total claim amount</th>\n",
       "      <th>vehicle class</th>\n",
       "      <th>vehicle size</th>\n",
       "    </tr>\n",
       "  </thead>\n",
       "  <tbody>\n",
       "    <tr>\n",
       "      <th>0</th>\n",
       "      <td>BU79786</td>\n",
       "      <td>Washington</td>\n",
       "      <td>2763.519279</td>\n",
       "      <td>No</td>\n",
       "      <td>Basic</td>\n",
       "      <td>Bachelor</td>\n",
       "      <td>2/24/11</td>\n",
       "      <td>Employed</td>\n",
       "      <td>F</td>\n",
       "      <td>56274</td>\n",
       "      <td>...</td>\n",
       "      <td>5</td>\n",
       "      <td>0</td>\n",
       "      <td>1</td>\n",
       "      <td>Corporate Auto</td>\n",
       "      <td>Corporate L3</td>\n",
       "      <td>Offer1</td>\n",
       "      <td>Agent</td>\n",
       "      <td>384.811147</td>\n",
       "      <td>Two-Door Car</td>\n",
       "      <td>Medsize</td>\n",
       "    </tr>\n",
       "    <tr>\n",
       "      <th>1</th>\n",
       "      <td>QZ44356</td>\n",
       "      <td>Arizona</td>\n",
       "      <td>6979.535903</td>\n",
       "      <td>No</td>\n",
       "      <td>Extended</td>\n",
       "      <td>Bachelor</td>\n",
       "      <td>1/31/11</td>\n",
       "      <td>Unemployed</td>\n",
       "      <td>F</td>\n",
       "      <td>0</td>\n",
       "      <td>...</td>\n",
       "      <td>42</td>\n",
       "      <td>0</td>\n",
       "      <td>8</td>\n",
       "      <td>Personal Auto</td>\n",
       "      <td>Personal L3</td>\n",
       "      <td>Offer3</td>\n",
       "      <td>Agent</td>\n",
       "      <td>1131.464935</td>\n",
       "      <td>Four-Door Car</td>\n",
       "      <td>Medsize</td>\n",
       "    </tr>\n",
       "  </tbody>\n",
       "</table>\n",
       "<p>2 rows × 24 columns</p>\n",
       "</div>"
      ],
      "text/plain": [
       "  customer       state  customer lifetime value response  coverage education  \\\n",
       "0  BU79786  Washington              2763.519279       No     Basic  Bachelor   \n",
       "1  QZ44356     Arizona              6979.535903       No  Extended  Bachelor   \n",
       "\n",
       "  effective to date employmentstatus gender  income  ...  \\\n",
       "0           2/24/11         Employed      F   56274  ...   \n",
       "1           1/31/11       Unemployed      F       0  ...   \n",
       "\n",
       "  months since policy inception number of open complaints  number of policies  \\\n",
       "0                             5                         0                   1   \n",
       "1                            42                         0                   8   \n",
       "\n",
       "      policy type        policy  renew offer type  sales channel  \\\n",
       "0  Corporate Auto  Corporate L3            Offer1          Agent   \n",
       "1   Personal Auto   Personal L3            Offer3          Agent   \n",
       "\n",
       "  total claim amount  vehicle class vehicle size  \n",
       "0         384.811147   Two-Door Car      Medsize  \n",
       "1        1131.464935  Four-Door Car      Medsize  \n",
       "\n",
       "[2 rows x 24 columns]"
      ]
     },
     "execution_count": 4,
     "metadata": {},
     "output_type": "execute_result"
    }
   ],
   "source": [
    "low(file)"
   ]
  },
  {
   "cell_type": "code",
   "execution_count": 5,
   "id": "2846468b-c592-4c0a-8200-e1e2ea810028",
   "metadata": {},
   "outputs": [
    {
     "data": {
      "text/html": [
       "<div>\n",
       "<style scoped>\n",
       "    .dataframe tbody tr th:only-of-type {\n",
       "        vertical-align: middle;\n",
       "    }\n",
       "\n",
       "    .dataframe tbody tr th {\n",
       "        vertical-align: top;\n",
       "    }\n",
       "\n",
       "    .dataframe thead th {\n",
       "        text-align: right;\n",
       "    }\n",
       "</style>\n",
       "<table border=\"1\" class=\"dataframe\">\n",
       "  <thead>\n",
       "    <tr style=\"text-align: right;\">\n",
       "      <th></th>\n",
       "      <th>customer lifetime value</th>\n",
       "      <th>income</th>\n",
       "      <th>monthly premium auto</th>\n",
       "      <th>months since last claim</th>\n",
       "      <th>months since policy inception</th>\n",
       "      <th>number of open complaints</th>\n",
       "      <th>number of policies</th>\n",
       "      <th>total claim amount</th>\n",
       "    </tr>\n",
       "  </thead>\n",
       "  <tbody>\n",
       "    <tr>\n",
       "      <th>0</th>\n",
       "      <td>2763.519279</td>\n",
       "      <td>56274</td>\n",
       "      <td>69</td>\n",
       "      <td>32</td>\n",
       "      <td>5</td>\n",
       "      <td>0</td>\n",
       "      <td>1</td>\n",
       "      <td>384.811147</td>\n",
       "    </tr>\n",
       "    <tr>\n",
       "      <th>1</th>\n",
       "      <td>6979.535903</td>\n",
       "      <td>0</td>\n",
       "      <td>94</td>\n",
       "      <td>13</td>\n",
       "      <td>42</td>\n",
       "      <td>0</td>\n",
       "      <td>8</td>\n",
       "      <td>1131.464935</td>\n",
       "    </tr>\n",
       "    <tr>\n",
       "      <th>2</th>\n",
       "      <td>12887.431650</td>\n",
       "      <td>48767</td>\n",
       "      <td>108</td>\n",
       "      <td>18</td>\n",
       "      <td>38</td>\n",
       "      <td>0</td>\n",
       "      <td>2</td>\n",
       "      <td>566.472247</td>\n",
       "    </tr>\n",
       "    <tr>\n",
       "      <th>3</th>\n",
       "      <td>7645.861827</td>\n",
       "      <td>0</td>\n",
       "      <td>106</td>\n",
       "      <td>18</td>\n",
       "      <td>65</td>\n",
       "      <td>0</td>\n",
       "      <td>7</td>\n",
       "      <td>529.881344</td>\n",
       "    </tr>\n",
       "    <tr>\n",
       "      <th>4</th>\n",
       "      <td>2813.692575</td>\n",
       "      <td>43836</td>\n",
       "      <td>73</td>\n",
       "      <td>12</td>\n",
       "      <td>44</td>\n",
       "      <td>0</td>\n",
       "      <td>1</td>\n",
       "      <td>138.130879</td>\n",
       "    </tr>\n",
       "    <tr>\n",
       "      <th>...</th>\n",
       "      <td>...</td>\n",
       "      <td>...</td>\n",
       "      <td>...</td>\n",
       "      <td>...</td>\n",
       "      <td>...</td>\n",
       "      <td>...</td>\n",
       "      <td>...</td>\n",
       "      <td>...</td>\n",
       "    </tr>\n",
       "    <tr>\n",
       "      <th>9129</th>\n",
       "      <td>23405.987980</td>\n",
       "      <td>71941</td>\n",
       "      <td>73</td>\n",
       "      <td>18</td>\n",
       "      <td>89</td>\n",
       "      <td>0</td>\n",
       "      <td>2</td>\n",
       "      <td>198.234764</td>\n",
       "    </tr>\n",
       "    <tr>\n",
       "      <th>9130</th>\n",
       "      <td>3096.511217</td>\n",
       "      <td>21604</td>\n",
       "      <td>79</td>\n",
       "      <td>14</td>\n",
       "      <td>28</td>\n",
       "      <td>0</td>\n",
       "      <td>1</td>\n",
       "      <td>379.200000</td>\n",
       "    </tr>\n",
       "    <tr>\n",
       "      <th>9131</th>\n",
       "      <td>8163.890428</td>\n",
       "      <td>0</td>\n",
       "      <td>85</td>\n",
       "      <td>9</td>\n",
       "      <td>37</td>\n",
       "      <td>3</td>\n",
       "      <td>2</td>\n",
       "      <td>790.784983</td>\n",
       "    </tr>\n",
       "    <tr>\n",
       "      <th>9132</th>\n",
       "      <td>7524.442436</td>\n",
       "      <td>21941</td>\n",
       "      <td>96</td>\n",
       "      <td>34</td>\n",
       "      <td>3</td>\n",
       "      <td>0</td>\n",
       "      <td>3</td>\n",
       "      <td>691.200000</td>\n",
       "    </tr>\n",
       "    <tr>\n",
       "      <th>9133</th>\n",
       "      <td>2611.836866</td>\n",
       "      <td>0</td>\n",
       "      <td>77</td>\n",
       "      <td>3</td>\n",
       "      <td>90</td>\n",
       "      <td>0</td>\n",
       "      <td>1</td>\n",
       "      <td>369.600000</td>\n",
       "    </tr>\n",
       "  </tbody>\n",
       "</table>\n",
       "<p>9134 rows × 8 columns</p>\n",
       "</div>"
      ],
      "text/plain": [
       "      customer lifetime value  income  monthly premium auto  \\\n",
       "0                 2763.519279   56274                    69   \n",
       "1                 6979.535903       0                    94   \n",
       "2                12887.431650   48767                   108   \n",
       "3                 7645.861827       0                   106   \n",
       "4                 2813.692575   43836                    73   \n",
       "...                       ...     ...                   ...   \n",
       "9129             23405.987980   71941                    73   \n",
       "9130              3096.511217   21604                    79   \n",
       "9131              8163.890428       0                    85   \n",
       "9132              7524.442436   21941                    96   \n",
       "9133              2611.836866       0                    77   \n",
       "\n",
       "      months since last claim  months since policy inception  \\\n",
       "0                          32                              5   \n",
       "1                          13                             42   \n",
       "2                          18                             38   \n",
       "3                          18                             65   \n",
       "4                          12                             44   \n",
       "...                       ...                            ...   \n",
       "9129                       18                             89   \n",
       "9130                       14                             28   \n",
       "9131                        9                             37   \n",
       "9132                       34                              3   \n",
       "9133                        3                             90   \n",
       "\n",
       "      number of open complaints  number of policies  total claim amount  \n",
       "0                             0                   1          384.811147  \n",
       "1                             0                   8         1131.464935  \n",
       "2                             0                   2          566.472247  \n",
       "3                             0                   7          529.881344  \n",
       "4                             0                   1          138.130879  \n",
       "...                         ...                 ...                 ...  \n",
       "9129                          0                   2          198.234764  \n",
       "9130                          0                   1          379.200000  \n",
       "9131                          3                   2          790.784983  \n",
       "9132                          0                   3          691.200000  \n",
       "9133                          0                   1          369.600000  \n",
       "\n",
       "[9134 rows x 8 columns]"
      ]
     },
     "execution_count": 5,
     "metadata": {},
     "output_type": "execute_result"
    }
   ],
   "source": [
    "file._get_numeric_data()"
   ]
  },
  {
   "cell_type": "code",
   "execution_count": 6,
   "id": "a94bc613-da24-4555-9be7-d776c0f2adb2",
   "metadata": {},
   "outputs": [
    {
     "data": {
      "text/plain": [
       "Index(['customer', 'state', 'response', 'coverage', 'education',\n",
       "       'effective to date', 'employmentstatus', 'gender', 'location code',\n",
       "       'marital status', 'policy type', 'policy', 'renew offer type',\n",
       "       'sales channel', 'vehicle class', 'vehicle size'],\n",
       "      dtype='object')"
      ]
     },
     "execution_count": 6,
     "metadata": {},
     "output_type": "execute_result"
    }
   ],
   "source": [
    "file.select_dtypes(include=['object']).columns"
   ]
  },
  {
   "cell_type": "code",
   "execution_count": 7,
   "id": "80eea573-2a8a-4429-88fd-edd41c96d763",
   "metadata": {},
   "outputs": [
    {
     "data": {
      "text/plain": [
       "customer                         0\n",
       "state                            0\n",
       "customer lifetime value          0\n",
       "response                         0\n",
       "coverage                         0\n",
       "education                        0\n",
       "effective to date                0\n",
       "employmentstatus                 0\n",
       "gender                           0\n",
       "income                           0\n",
       "location code                    0\n",
       "marital status                   0\n",
       "monthly premium auto             0\n",
       "months since last claim          0\n",
       "months since policy inception    0\n",
       "number of open complaints        0\n",
       "number of policies               0\n",
       "policy type                      0\n",
       "policy                           0\n",
       "renew offer type                 0\n",
       "sales channel                    0\n",
       "total claim amount               0\n",
       "vehicle class                    0\n",
       "vehicle size                     0\n",
       "dtype: int64"
      ]
     },
     "execution_count": 7,
     "metadata": {},
     "output_type": "execute_result"
    }
   ],
   "source": [
    "file.isna().sum()"
   ]
  },
  {
   "cell_type": "code",
   "execution_count": 8,
   "id": "858ce84f-48b5-4aaa-a5a6-94a7b3cd4315",
   "metadata": {},
   "outputs": [
    {
     "data": {
      "text/html": [
       "<div>\n",
       "<style scoped>\n",
       "    .dataframe tbody tr th:only-of-type {\n",
       "        vertical-align: middle;\n",
       "    }\n",
       "\n",
       "    .dataframe tbody tr th {\n",
       "        vertical-align: top;\n",
       "    }\n",
       "\n",
       "    .dataframe thead th {\n",
       "        text-align: right;\n",
       "    }\n",
       "</style>\n",
       "<table border=\"1\" class=\"dataframe\">\n",
       "  <thead>\n",
       "    <tr style=\"text-align: right;\">\n",
       "      <th></th>\n",
       "      <th>header_name</th>\n",
       "      <th>percent_nulls</th>\n",
       "    </tr>\n",
       "  </thead>\n",
       "  <tbody>\n",
       "    <tr>\n",
       "      <th>0</th>\n",
       "      <td>customer</td>\n",
       "      <td>0.0</td>\n",
       "    </tr>\n",
       "    <tr>\n",
       "      <th>1</th>\n",
       "      <td>state</td>\n",
       "      <td>0.0</td>\n",
       "    </tr>\n",
       "    <tr>\n",
       "      <th>2</th>\n",
       "      <td>customer lifetime value</td>\n",
       "      <td>0.0</td>\n",
       "    </tr>\n",
       "    <tr>\n",
       "      <th>3</th>\n",
       "      <td>response</td>\n",
       "      <td>0.0</td>\n",
       "    </tr>\n",
       "    <tr>\n",
       "      <th>4</th>\n",
       "      <td>coverage</td>\n",
       "      <td>0.0</td>\n",
       "    </tr>\n",
       "    <tr>\n",
       "      <th>5</th>\n",
       "      <td>education</td>\n",
       "      <td>0.0</td>\n",
       "    </tr>\n",
       "    <tr>\n",
       "      <th>6</th>\n",
       "      <td>effective to date</td>\n",
       "      <td>0.0</td>\n",
       "    </tr>\n",
       "    <tr>\n",
       "      <th>7</th>\n",
       "      <td>employmentstatus</td>\n",
       "      <td>0.0</td>\n",
       "    </tr>\n",
       "    <tr>\n",
       "      <th>8</th>\n",
       "      <td>gender</td>\n",
       "      <td>0.0</td>\n",
       "    </tr>\n",
       "    <tr>\n",
       "      <th>9</th>\n",
       "      <td>income</td>\n",
       "      <td>0.0</td>\n",
       "    </tr>\n",
       "    <tr>\n",
       "      <th>10</th>\n",
       "      <td>location code</td>\n",
       "      <td>0.0</td>\n",
       "    </tr>\n",
       "    <tr>\n",
       "      <th>11</th>\n",
       "      <td>marital status</td>\n",
       "      <td>0.0</td>\n",
       "    </tr>\n",
       "    <tr>\n",
       "      <th>12</th>\n",
       "      <td>monthly premium auto</td>\n",
       "      <td>0.0</td>\n",
       "    </tr>\n",
       "    <tr>\n",
       "      <th>13</th>\n",
       "      <td>months since last claim</td>\n",
       "      <td>0.0</td>\n",
       "    </tr>\n",
       "    <tr>\n",
       "      <th>14</th>\n",
       "      <td>months since policy inception</td>\n",
       "      <td>0.0</td>\n",
       "    </tr>\n",
       "    <tr>\n",
       "      <th>15</th>\n",
       "      <td>number of open complaints</td>\n",
       "      <td>0.0</td>\n",
       "    </tr>\n",
       "    <tr>\n",
       "      <th>16</th>\n",
       "      <td>number of policies</td>\n",
       "      <td>0.0</td>\n",
       "    </tr>\n",
       "    <tr>\n",
       "      <th>17</th>\n",
       "      <td>policy type</td>\n",
       "      <td>0.0</td>\n",
       "    </tr>\n",
       "    <tr>\n",
       "      <th>18</th>\n",
       "      <td>policy</td>\n",
       "      <td>0.0</td>\n",
       "    </tr>\n",
       "    <tr>\n",
       "      <th>19</th>\n",
       "      <td>renew offer type</td>\n",
       "      <td>0.0</td>\n",
       "    </tr>\n",
       "    <tr>\n",
       "      <th>20</th>\n",
       "      <td>sales channel</td>\n",
       "      <td>0.0</td>\n",
       "    </tr>\n",
       "    <tr>\n",
       "      <th>21</th>\n",
       "      <td>total claim amount</td>\n",
       "      <td>0.0</td>\n",
       "    </tr>\n",
       "    <tr>\n",
       "      <th>22</th>\n",
       "      <td>vehicle class</td>\n",
       "      <td>0.0</td>\n",
       "    </tr>\n",
       "    <tr>\n",
       "      <th>23</th>\n",
       "      <td>vehicle size</td>\n",
       "      <td>0.0</td>\n",
       "    </tr>\n",
       "  </tbody>\n",
       "</table>\n",
       "</div>"
      ],
      "text/plain": [
       "                      header_name  percent_nulls\n",
       "0                        customer            0.0\n",
       "1                           state            0.0\n",
       "2         customer lifetime value            0.0\n",
       "3                        response            0.0\n",
       "4                        coverage            0.0\n",
       "5                       education            0.0\n",
       "6               effective to date            0.0\n",
       "7                employmentstatus            0.0\n",
       "8                          gender            0.0\n",
       "9                          income            0.0\n",
       "10                  location code            0.0\n",
       "11                 marital status            0.0\n",
       "12           monthly premium auto            0.0\n",
       "13        months since last claim            0.0\n",
       "14  months since policy inception            0.0\n",
       "15      number of open complaints            0.0\n",
       "16             number of policies            0.0\n",
       "17                    policy type            0.0\n",
       "18                         policy            0.0\n",
       "19               renew offer type            0.0\n",
       "20                  sales channel            0.0\n",
       "21             total claim amount            0.0\n",
       "22                  vehicle class            0.0\n",
       "23                   vehicle size            0.0"
      ]
     },
     "metadata": {},
     "output_type": "display_data"
    }
   ],
   "source": [
    "nulls_df = pd.DataFrame(round(file.isna().sum()/len(file),4)*100)\n",
    "nulls_df = nulls_df.reset_index()\n",
    "nulls_df.columns = ['header_name', 'percent_nulls']\n",
    "display(nulls_df)"
   ]
  },
  {
   "cell_type": "code",
   "execution_count": 9,
   "id": "604aca9a-da7f-4bf7-b502-b528d9f9465b",
   "metadata": {},
   "outputs": [
    {
     "data": {
      "text/plain": [
       "California    3150\n",
       "Oregon        2601\n",
       "Arizona       1703\n",
       "Nevada         882\n",
       "Washington     798\n",
       "Name: state, dtype: int64"
      ]
     },
     "execution_count": 9,
     "metadata": {},
     "output_type": "execute_result"
    }
   ],
   "source": [
    "file['state'].value_counts(dropna=False)"
   ]
  },
  {
   "cell_type": "markdown",
   "id": "9bc6908f",
   "metadata": {},
   "source": [
    "the easiest to implement solution, although potentially not the best is to assign the null values to the mode of the column"
   ]
  },
  {
   "cell_type": "code",
   "execution_count": 10,
   "id": "b050cdc1",
   "metadata": {},
   "outputs": [
    {
     "data": {
      "text/plain": [
       "California    3150\n",
       "Oregon        2601\n",
       "Arizona       1703\n",
       "Nevada         882\n",
       "Washington     798\n",
       "Name: state, dtype: int64"
      ]
     },
     "execution_count": 10,
     "metadata": {},
     "output_type": "execute_result"
    }
   ],
   "source": [
    "mode_state=(file['state'].mode())\n",
    "file['state']=file['state'].fillna(mode_state[0])\n",
    "file['state'].value_counts()"
   ]
  },
  {
   "cell_type": "code",
   "execution_count": 11,
   "id": "9479c362-7e76-4be8-b9bd-8c35a176d5dd",
   "metadata": {},
   "outputs": [
    {
     "data": {
      "text/plain": [
       "No     7826\n",
       "Yes    1308\n",
       "Name: response, dtype: int64"
      ]
     },
     "execution_count": 11,
     "metadata": {},
     "output_type": "execute_result"
    }
   ],
   "source": [
    "file['response'].value_counts(dropna=False)"
   ]
  },
  {
   "cell_type": "markdown",
   "id": "b6288f90-fc0d-48f4-ba6f-d5ab6227bd11",
   "metadata": {},
   "source": [
    "It's a reasonable guess that null values for the collumn response would be no, that's what we're changing them to"
   ]
  },
  {
   "cell_type": "code",
   "execution_count": 12,
   "id": "3e469092-19fa-4947-b0a8-f1ae39215f10",
   "metadata": {},
   "outputs": [
    {
     "data": {
      "text/plain": [
       "No     7826\n",
       "Yes    1308\n",
       "Name: response, dtype: int64"
      ]
     },
     "execution_count": 12,
     "metadata": {},
     "output_type": "execute_result"
    }
   ],
   "source": [
    "no_response='No'\n",
    "file['response']=file['response'].fillna(no_response)\n",
    "file['response'].value_counts(dropna=False)"
   ]
  },
  {
   "cell_type": "code",
   "execution_count": 13,
   "id": "56162e37-3343-4ed6-bf2b-6bf3e270d39b",
   "metadata": {},
   "outputs": [
    {
     "data": {
      "text/plain": [
       "3     381\n",
       "6     364\n",
       "1     345\n",
       "4     335\n",
       "7     333\n",
       "2     329\n",
       "0     314\n",
       "5     313\n",
       "10    306\n",
       "11    297\n",
       "16    295\n",
       "15    286\n",
       "13    285\n",
       "8     279\n",
       "12    273\n",
       "14    268\n",
       "17    263\n",
       "9     250\n",
       "19    246\n",
       "23    239\n",
       "25    236\n",
       "21    233\n",
       "20    231\n",
       "18    229\n",
       "22    218\n",
       "24    211\n",
       "29    206\n",
       "28    201\n",
       "31    190\n",
       "26    186\n",
       "30    182\n",
       "27    182\n",
       "33    179\n",
       "34    169\n",
       "35    142\n",
       "32    138\n",
       "Name: months since last claim, dtype: int64"
      ]
     },
     "execution_count": 13,
     "metadata": {},
     "output_type": "execute_result"
    }
   ],
   "source": [
    "file['months since last claim'].value_counts(dropna=False)"
   ]
  },
  {
   "cell_type": "markdown",
   "id": "4b7b1495",
   "metadata": {},
   "source": [
    "There isn't a very straightforward solution to fixing this issue, so i'll simply compute all the null values as the mean of the column"
   ]
  },
  {
   "cell_type": "code",
   "execution_count": 14,
   "id": "3c7e275d",
   "metadata": {},
   "outputs": [
    {
     "data": {
      "text/plain": [
       "3     381\n",
       "6     364\n",
       "1     345\n",
       "4     335\n",
       "7     333\n",
       "2     329\n",
       "0     314\n",
       "5     313\n",
       "10    306\n",
       "11    297\n",
       "16    295\n",
       "15    286\n",
       "13    285\n",
       "8     279\n",
       "12    273\n",
       "14    268\n",
       "17    263\n",
       "9     250\n",
       "19    246\n",
       "23    239\n",
       "25    236\n",
       "21    233\n",
       "20    231\n",
       "18    229\n",
       "22    218\n",
       "24    211\n",
       "29    206\n",
       "28    201\n",
       "31    190\n",
       "26    186\n",
       "30    182\n",
       "27    182\n",
       "33    179\n",
       "34    169\n",
       "35    142\n",
       "32    138\n",
       "Name: months since last claim, dtype: int64"
      ]
     },
     "execution_count": 14,
     "metadata": {},
     "output_type": "execute_result"
    }
   ],
   "source": [
    "avg_months=round(np.mean(file['months since last claim']))\n",
    "file['months since last claim']=file['months since last claim'].fillna(avg_months)\n",
    "file['months since last claim'].value_counts(dropna=False)"
   ]
  },
  {
   "cell_type": "code",
   "execution_count": 15,
   "id": "71d79acb-a64c-4848-afc6-d4ea04753682",
   "metadata": {},
   "outputs": [
    {
     "data": {
      "text/plain": [
       "0    7252\n",
       "1    1011\n",
       "2     374\n",
       "3     292\n",
       "4     149\n",
       "5      56\n",
       "Name: number of open complaints, dtype: int64"
      ]
     },
     "execution_count": 15,
     "metadata": {},
     "output_type": "execute_result"
    }
   ],
   "source": [
    "file['number of open complaints'].value_counts(dropna=False)"
   ]
  },
  {
   "cell_type": "markdown",
   "id": "2f589f32-4529-43b3-b869-534ca9d99e93",
   "metadata": {},
   "source": [
    "Once again, we'll be making a reasonable guess that null values could simply mean the customer didn't have any open complaints"
   ]
  },
  {
   "cell_type": "code",
   "execution_count": 16,
   "id": "a0fd7db0-860d-49a8-a207-810b17b3f096",
   "metadata": {},
   "outputs": [
    {
     "data": {
      "text/plain": [
       "0    7252\n",
       "1    1011\n",
       "2     374\n",
       "3     292\n",
       "4     149\n",
       "5      56\n",
       "Name: number of open complaints, dtype: int64"
      ]
     },
     "execution_count": 16,
     "metadata": {},
     "output_type": "execute_result"
    }
   ],
   "source": [
    "no_complaints=0.0\n",
    "file['number of open complaints']=file['number of open complaints'].fillna(no_complaints)\n",
    "file['number of open complaints'].value_counts(dropna=False)"
   ]
  },
  {
   "cell_type": "code",
   "execution_count": 17,
   "id": "fd97b8f5-32ab-439f-b936-545968649d30",
   "metadata": {},
   "outputs": [
    {
     "data": {
      "text/plain": [
       "Four-Door Car    4621\n",
       "Two-Door Car     1886\n",
       "SUV              1796\n",
       "Sports Car        484\n",
       "Luxury SUV        184\n",
       "Luxury Car        163\n",
       "Name: vehicle class, dtype: int64"
      ]
     },
     "execution_count": 17,
     "metadata": {},
     "output_type": "execute_result"
    }
   ],
   "source": [
    "file['vehicle class'].value_counts(dropna=False)"
   ]
  },
  {
   "cell_type": "markdown",
   "id": "48ddb447",
   "metadata": {},
   "source": [
    "given all the unique values, i'll chosse to simple aggregate the null values into the mode of the column"
   ]
  },
  {
   "cell_type": "code",
   "execution_count": 18,
   "id": "db676902",
   "metadata": {},
   "outputs": [
    {
     "data": {
      "text/plain": [
       "Four-Door Car    4621\n",
       "Two-Door Car     1886\n",
       "SUV              1796\n",
       "Sports Car        484\n",
       "Luxury SUV        184\n",
       "Luxury Car        163\n",
       "Name: vehicle class, dtype: int64"
      ]
     },
     "execution_count": 18,
     "metadata": {},
     "output_type": "execute_result"
    }
   ],
   "source": [
    "mode_vclass=file['vehicle class'].mode()\n",
    "file['vehicle class']=file['vehicle class'].fillna(mode_vclass[0])\n",
    "file['vehicle class'].value_counts()"
   ]
  },
  {
   "cell_type": "code",
   "execution_count": 19,
   "id": "cd2e8dcf-1f55-4a31-a926-2bfadde6d4c6",
   "metadata": {},
   "outputs": [
    {
     "data": {
      "text/plain": [
       "Medsize    6424\n",
       "Small      1764\n",
       "Large       946\n",
       "Name: vehicle size, dtype: int64"
      ]
     },
     "execution_count": 19,
     "metadata": {},
     "output_type": "execute_result"
    }
   ],
   "source": [
    "file['vehicle size'].value_counts(dropna=False)"
   ]
  },
  {
   "cell_type": "markdown",
   "id": "732cbcda",
   "metadata": {},
   "source": [
    "given all the unique values, i'll chosse to simple aggregate the null values into the mode of the column"
   ]
  },
  {
   "cell_type": "code",
   "execution_count": 20,
   "id": "8e2dcc93",
   "metadata": {},
   "outputs": [
    {
     "data": {
      "text/plain": [
       "Medsize    6424\n",
       "Small      1764\n",
       "Large       946\n",
       "Name: vehicle size, dtype: int64"
      ]
     },
     "execution_count": 20,
     "metadata": {},
     "output_type": "execute_result"
    }
   ],
   "source": [
    "mode_vsize=file['vehicle size'].mode()\n",
    "file['vehicle size']=file['vehicle size'].fillna(mode_vsize[0])\n",
    "file['vehicle size'].value_counts()"
   ]
  },
  {
   "cell_type": "markdown",
   "id": "b1f10639-9d34-4a34-ac1e-e0c8350d9c2b",
   "metadata": {},
   "source": [
    "Considering the only non null value in this column is 'A' we could either drop the column, since we already have other information on the customer's car anyways, or we could simply guess that ALL vehicles are type A which makes the column have no value either way"
   ]
  },
  {
   "cell_type": "code",
   "execution_count": 21,
   "id": "25fcf71a",
   "metadata": {},
   "outputs": [
    {
     "data": {
      "text/html": [
       "<div>\n",
       "<style scoped>\n",
       "    .dataframe tbody tr th:only-of-type {\n",
       "        vertical-align: middle;\n",
       "    }\n",
       "\n",
       "    .dataframe tbody tr th {\n",
       "        vertical-align: top;\n",
       "    }\n",
       "\n",
       "    .dataframe thead th {\n",
       "        text-align: right;\n",
       "    }\n",
       "</style>\n",
       "<table border=\"1\" class=\"dataframe\">\n",
       "  <thead>\n",
       "    <tr style=\"text-align: right;\">\n",
       "      <th></th>\n",
       "      <th>header_name</th>\n",
       "      <th>percent_nulls</th>\n",
       "    </tr>\n",
       "  </thead>\n",
       "  <tbody>\n",
       "    <tr>\n",
       "      <th>0</th>\n",
       "      <td>customer</td>\n",
       "      <td>0.0</td>\n",
       "    </tr>\n",
       "    <tr>\n",
       "      <th>1</th>\n",
       "      <td>state</td>\n",
       "      <td>0.0</td>\n",
       "    </tr>\n",
       "    <tr>\n",
       "      <th>2</th>\n",
       "      <td>customer lifetime value</td>\n",
       "      <td>0.0</td>\n",
       "    </tr>\n",
       "    <tr>\n",
       "      <th>3</th>\n",
       "      <td>response</td>\n",
       "      <td>0.0</td>\n",
       "    </tr>\n",
       "    <tr>\n",
       "      <th>4</th>\n",
       "      <td>coverage</td>\n",
       "      <td>0.0</td>\n",
       "    </tr>\n",
       "    <tr>\n",
       "      <th>5</th>\n",
       "      <td>education</td>\n",
       "      <td>0.0</td>\n",
       "    </tr>\n",
       "    <tr>\n",
       "      <th>6</th>\n",
       "      <td>effective to date</td>\n",
       "      <td>0.0</td>\n",
       "    </tr>\n",
       "    <tr>\n",
       "      <th>7</th>\n",
       "      <td>employmentstatus</td>\n",
       "      <td>0.0</td>\n",
       "    </tr>\n",
       "    <tr>\n",
       "      <th>8</th>\n",
       "      <td>gender</td>\n",
       "      <td>0.0</td>\n",
       "    </tr>\n",
       "    <tr>\n",
       "      <th>9</th>\n",
       "      <td>income</td>\n",
       "      <td>0.0</td>\n",
       "    </tr>\n",
       "    <tr>\n",
       "      <th>10</th>\n",
       "      <td>location code</td>\n",
       "      <td>0.0</td>\n",
       "    </tr>\n",
       "    <tr>\n",
       "      <th>11</th>\n",
       "      <td>marital status</td>\n",
       "      <td>0.0</td>\n",
       "    </tr>\n",
       "    <tr>\n",
       "      <th>12</th>\n",
       "      <td>monthly premium auto</td>\n",
       "      <td>0.0</td>\n",
       "    </tr>\n",
       "    <tr>\n",
       "      <th>13</th>\n",
       "      <td>months since last claim</td>\n",
       "      <td>0.0</td>\n",
       "    </tr>\n",
       "    <tr>\n",
       "      <th>14</th>\n",
       "      <td>months since policy inception</td>\n",
       "      <td>0.0</td>\n",
       "    </tr>\n",
       "    <tr>\n",
       "      <th>15</th>\n",
       "      <td>number of open complaints</td>\n",
       "      <td>0.0</td>\n",
       "    </tr>\n",
       "    <tr>\n",
       "      <th>16</th>\n",
       "      <td>number of policies</td>\n",
       "      <td>0.0</td>\n",
       "    </tr>\n",
       "    <tr>\n",
       "      <th>17</th>\n",
       "      <td>policy type</td>\n",
       "      <td>0.0</td>\n",
       "    </tr>\n",
       "    <tr>\n",
       "      <th>18</th>\n",
       "      <td>policy</td>\n",
       "      <td>0.0</td>\n",
       "    </tr>\n",
       "    <tr>\n",
       "      <th>19</th>\n",
       "      <td>renew offer type</td>\n",
       "      <td>0.0</td>\n",
       "    </tr>\n",
       "    <tr>\n",
       "      <th>20</th>\n",
       "      <td>sales channel</td>\n",
       "      <td>0.0</td>\n",
       "    </tr>\n",
       "    <tr>\n",
       "      <th>21</th>\n",
       "      <td>total claim amount</td>\n",
       "      <td>0.0</td>\n",
       "    </tr>\n",
       "    <tr>\n",
       "      <th>22</th>\n",
       "      <td>vehicle class</td>\n",
       "      <td>0.0</td>\n",
       "    </tr>\n",
       "    <tr>\n",
       "      <th>23</th>\n",
       "      <td>vehicle size</td>\n",
       "      <td>0.0</td>\n",
       "    </tr>\n",
       "  </tbody>\n",
       "</table>\n",
       "</div>"
      ],
      "text/plain": [
       "                      header_name  percent_nulls\n",
       "0                        customer            0.0\n",
       "1                           state            0.0\n",
       "2         customer lifetime value            0.0\n",
       "3                        response            0.0\n",
       "4                        coverage            0.0\n",
       "5                       education            0.0\n",
       "6               effective to date            0.0\n",
       "7                employmentstatus            0.0\n",
       "8                          gender            0.0\n",
       "9                          income            0.0\n",
       "10                  location code            0.0\n",
       "11                 marital status            0.0\n",
       "12           monthly premium auto            0.0\n",
       "13        months since last claim            0.0\n",
       "14  months since policy inception            0.0\n",
       "15      number of open complaints            0.0\n",
       "16             number of policies            0.0\n",
       "17                    policy type            0.0\n",
       "18                         policy            0.0\n",
       "19               renew offer type            0.0\n",
       "20                  sales channel            0.0\n",
       "21             total claim amount            0.0\n",
       "22                  vehicle class            0.0\n",
       "23                   vehicle size            0.0"
      ]
     },
     "metadata": {},
     "output_type": "display_data"
    }
   ],
   "source": [
    "f_nulls_df = pd.DataFrame(round(file.isna().sum()/len(file),4)*100)\n",
    "f_nulls_df = f_nulls_df.reset_index()\n",
    "f_nulls_df.columns = ['header_name', 'percent_nulls']\n",
    "display(f_nulls_df)"
   ]
  },
  {
   "cell_type": "code",
   "execution_count": 22,
   "id": "6a17962b",
   "metadata": {},
   "outputs": [],
   "source": [
    "#file['effective to date'] = pd.to_datetime(file['effective to date'])\n",
    "#file[['effective to date']].dtypes"
   ]
  },
  {
   "cell_type": "code",
   "execution_count": 23,
   "id": "c72889bf",
   "metadata": {},
   "outputs": [],
   "source": [
    "#file['month']=file['effective to date'].dt.month\n",
    "#display(file['month'].head())"
   ]
  },
  {
   "cell_type": "code",
   "execution_count": 24,
   "id": "0f092d51",
   "metadata": {},
   "outputs": [],
   "source": [
    "#first_quarter=file[(file['month']==1) | (file['month']==2) | (file['month']==3)]\n",
    "#display(first_quarter)"
   ]
  },
  {
   "cell_type": "markdown",
   "id": "1b99f9a3",
   "metadata": {},
   "source": [
    "'''"
   ]
  },
  {
   "cell_type": "markdown",
   "id": "ac740d6f",
   "metadata": {},
   "source": [
    "LAB 3 STARTS HERE"
   ]
  },
  {
   "cell_type": "code",
   "execution_count": 25,
   "id": "b9f6e3da",
   "metadata": {},
   "outputs": [
    {
     "name": "stdout",
     "output_type": "stream",
     "text": [
      "<class 'pandas.core.frame.DataFrame'>\n",
      "RangeIndex: 9134 entries, 0 to 9133\n",
      "Data columns (total 24 columns):\n",
      " #   Column                         Non-Null Count  Dtype  \n",
      "---  ------                         --------------  -----  \n",
      " 0   customer                       9134 non-null   object \n",
      " 1   state                          9134 non-null   object \n",
      " 2   customer lifetime value        9134 non-null   float64\n",
      " 3   response                       9134 non-null   object \n",
      " 4   coverage                       9134 non-null   object \n",
      " 5   education                      9134 non-null   object \n",
      " 6   effective to date              9134 non-null   object \n",
      " 7   employmentstatus               9134 non-null   object \n",
      " 8   gender                         9134 non-null   object \n",
      " 9   income                         9134 non-null   int64  \n",
      " 10  location code                  9134 non-null   object \n",
      " 11  marital status                 9134 non-null   object \n",
      " 12  monthly premium auto           9134 non-null   int64  \n",
      " 13  months since last claim        9134 non-null   int64  \n",
      " 14  months since policy inception  9134 non-null   int64  \n",
      " 15  number of open complaints      9134 non-null   int64  \n",
      " 16  number of policies             9134 non-null   int64  \n",
      " 17  policy type                    9134 non-null   object \n",
      " 18  policy                         9134 non-null   object \n",
      " 19  renew offer type               9134 non-null   object \n",
      " 20  sales channel                  9134 non-null   object \n",
      " 21  total claim amount             9134 non-null   float64\n",
      " 22  vehicle class                  9134 non-null   object \n",
      " 23  vehicle size                   9134 non-null   object \n",
      "dtypes: float64(2), int64(6), object(16)\n",
      "memory usage: 1.7+ MB\n"
     ]
    }
   ],
   "source": [
    "file.info()"
   ]
  },
  {
   "cell_type": "code",
   "execution_count": 26,
   "id": "3092082f",
   "metadata": {},
   "outputs": [
    {
     "data": {
      "text/html": [
       "<div>\n",
       "<style scoped>\n",
       "    .dataframe tbody tr th:only-of-type {\n",
       "        vertical-align: middle;\n",
       "    }\n",
       "\n",
       "    .dataframe tbody tr th {\n",
       "        vertical-align: top;\n",
       "    }\n",
       "\n",
       "    .dataframe thead th {\n",
       "        text-align: right;\n",
       "    }\n",
       "</style>\n",
       "<table border=\"1\" class=\"dataframe\">\n",
       "  <thead>\n",
       "    <tr style=\"text-align: right;\">\n",
       "      <th></th>\n",
       "      <th>count</th>\n",
       "      <th>mean</th>\n",
       "      <th>std</th>\n",
       "      <th>min</th>\n",
       "      <th>25%</th>\n",
       "      <th>50%</th>\n",
       "      <th>75%</th>\n",
       "      <th>max</th>\n",
       "    </tr>\n",
       "  </thead>\n",
       "  <tbody>\n",
       "    <tr>\n",
       "      <th>customer lifetime value</th>\n",
       "      <td>9134.0</td>\n",
       "      <td>8004.940475</td>\n",
       "      <td>6870.967608</td>\n",
       "      <td>1898.007675</td>\n",
       "      <td>3994.251794</td>\n",
       "      <td>5780.182197</td>\n",
       "      <td>8962.167041</td>\n",
       "      <td>83325.381190</td>\n",
       "    </tr>\n",
       "    <tr>\n",
       "      <th>income</th>\n",
       "      <td>9134.0</td>\n",
       "      <td>37657.380009</td>\n",
       "      <td>30379.904734</td>\n",
       "      <td>0.000000</td>\n",
       "      <td>0.000000</td>\n",
       "      <td>33889.500000</td>\n",
       "      <td>62320.000000</td>\n",
       "      <td>99981.000000</td>\n",
       "    </tr>\n",
       "    <tr>\n",
       "      <th>monthly premium auto</th>\n",
       "      <td>9134.0</td>\n",
       "      <td>93.219291</td>\n",
       "      <td>34.407967</td>\n",
       "      <td>61.000000</td>\n",
       "      <td>68.000000</td>\n",
       "      <td>83.000000</td>\n",
       "      <td>109.000000</td>\n",
       "      <td>298.000000</td>\n",
       "    </tr>\n",
       "    <tr>\n",
       "      <th>months since last claim</th>\n",
       "      <td>9134.0</td>\n",
       "      <td>15.097000</td>\n",
       "      <td>10.073257</td>\n",
       "      <td>0.000000</td>\n",
       "      <td>6.000000</td>\n",
       "      <td>14.000000</td>\n",
       "      <td>23.000000</td>\n",
       "      <td>35.000000</td>\n",
       "    </tr>\n",
       "    <tr>\n",
       "      <th>months since policy inception</th>\n",
       "      <td>9134.0</td>\n",
       "      <td>48.064594</td>\n",
       "      <td>27.905991</td>\n",
       "      <td>0.000000</td>\n",
       "      <td>24.000000</td>\n",
       "      <td>48.000000</td>\n",
       "      <td>71.000000</td>\n",
       "      <td>99.000000</td>\n",
       "    </tr>\n",
       "    <tr>\n",
       "      <th>number of open complaints</th>\n",
       "      <td>9134.0</td>\n",
       "      <td>0.384388</td>\n",
       "      <td>0.910384</td>\n",
       "      <td>0.000000</td>\n",
       "      <td>0.000000</td>\n",
       "      <td>0.000000</td>\n",
       "      <td>0.000000</td>\n",
       "      <td>5.000000</td>\n",
       "    </tr>\n",
       "    <tr>\n",
       "      <th>number of policies</th>\n",
       "      <td>9134.0</td>\n",
       "      <td>2.966170</td>\n",
       "      <td>2.390182</td>\n",
       "      <td>1.000000</td>\n",
       "      <td>1.000000</td>\n",
       "      <td>2.000000</td>\n",
       "      <td>4.000000</td>\n",
       "      <td>9.000000</td>\n",
       "    </tr>\n",
       "    <tr>\n",
       "      <th>total claim amount</th>\n",
       "      <td>9134.0</td>\n",
       "      <td>434.088794</td>\n",
       "      <td>290.500092</td>\n",
       "      <td>0.099007</td>\n",
       "      <td>272.258244</td>\n",
       "      <td>383.945434</td>\n",
       "      <td>547.514839</td>\n",
       "      <td>2893.239678</td>\n",
       "    </tr>\n",
       "  </tbody>\n",
       "</table>\n",
       "</div>"
      ],
      "text/plain": [
       "                                count          mean           std  \\\n",
       "customer lifetime value        9134.0   8004.940475   6870.967608   \n",
       "income                         9134.0  37657.380009  30379.904734   \n",
       "monthly premium auto           9134.0     93.219291     34.407967   \n",
       "months since last claim        9134.0     15.097000     10.073257   \n",
       "months since policy inception  9134.0     48.064594     27.905991   \n",
       "number of open complaints      9134.0      0.384388      0.910384   \n",
       "number of policies             9134.0      2.966170      2.390182   \n",
       "total claim amount             9134.0    434.088794    290.500092   \n",
       "\n",
       "                                       min          25%           50%  \\\n",
       "customer lifetime value        1898.007675  3994.251794   5780.182197   \n",
       "income                            0.000000     0.000000  33889.500000   \n",
       "monthly premium auto             61.000000    68.000000     83.000000   \n",
       "months since last claim           0.000000     6.000000     14.000000   \n",
       "months since policy inception     0.000000    24.000000     48.000000   \n",
       "number of open complaints         0.000000     0.000000      0.000000   \n",
       "number of policies                1.000000     1.000000      2.000000   \n",
       "total claim amount                0.099007   272.258244    383.945434   \n",
       "\n",
       "                                        75%           max  \n",
       "customer lifetime value         8962.167041  83325.381190  \n",
       "income                         62320.000000  99981.000000  \n",
       "monthly premium auto             109.000000    298.000000  \n",
       "months since last claim           23.000000     35.000000  \n",
       "months since policy inception     71.000000     99.000000  \n",
       "number of open complaints          0.000000      5.000000  \n",
       "number of policies                 4.000000      9.000000  \n",
       "total claim amount               547.514839   2893.239678  "
      ]
     },
     "execution_count": 26,
     "metadata": {},
     "output_type": "execute_result"
    }
   ],
   "source": [
    "file.describe().T"
   ]
  },
  {
   "cell_type": "code",
   "execution_count": 27,
   "id": "e2d08c4e",
   "metadata": {},
   "outputs": [],
   "source": [
    "import matplotlib.pyplot as plt\n",
    "import seaborn as sns\n",
    "%matplotlib inline"
   ]
  },
  {
   "cell_type": "code",
   "execution_count": 28,
   "id": "f33ce5b9",
   "metadata": {},
   "outputs": [
    {
     "data": {
      "text/plain": [
       "<AxesSubplot:xlabel='response', ylabel='count'>"
      ]
     },
     "execution_count": 28,
     "metadata": {},
     "output_type": "execute_result"
    },
    {
     "data": {
      "image/png": "[encoded data removed]",
      "text/plain": [
       "<Figure size 432x288 with 1 Axes>"
      ]
     },
     "metadata": {
      "needs_background": "light"
     },
     "output_type": "display_data"
    }
   ],
   "source": [
    "sns.countplot(data=file, x=\"response\")"
   ]
  },
  {
   "cell_type": "code",
   "execution_count": 29,
   "id": "281b8995",
   "metadata": {},
   "outputs": [
    {
     "data": {
      "text/plain": [
       "<AxesSubplot:xlabel='sales channel', ylabel='count'>"
      ]
     },
     "execution_count": 29,
     "metadata": {},
     "output_type": "execute_result"
    },
    {
     "data": {
      "image/png": "[encoded data removed]",
      "text/plain": [
       "<Figure size 432x288 with 1 Axes>"
      ]
     },
     "metadata": {
      "needs_background": "light"
     },
     "output_type": "display_data"
    }
   ],
   "source": [
    "sns.countplot(data=file, x='sales channel', hue='response')"
   ]
  },
  {
   "cell_type": "code",
   "execution_count": 30,
   "id": "839bc2ff",
   "metadata": {},
   "outputs": [
    {
     "data": {
      "text/plain": [
       "<AxesSubplot:xlabel='total claim amount', ylabel='response'>"
      ]
     },
     "execution_count": 30,
     "metadata": {},
     "output_type": "execute_result"
    },
    {
     "data": {
      "image/png": "[encoded data removed]",
      "text/plain": [
       "<Figure size 432x288 with 1 Axes>"
      ]
     },
     "metadata": {
      "needs_background": "light"
     },
     "output_type": "display_data"
    }
   ],
   "source": [
    "sns.boxenplot(data=file, x='total claim amount', y='response')"
   ]
  },
  {
   "cell_type": "code",
   "execution_count": 31,
   "id": "ff691f99",
   "metadata": {},
   "outputs": [
    {
     "data": {
      "text/plain": [
       "<AxesSubplot:xlabel='income', ylabel='Count'>"
      ]
     },
     "execution_count": 31,
     "metadata": {},
     "output_type": "execute_result"
    },
    {
     "data": {
      "image/png": "[encoded data removed]",
      "text/plain": [
       "<Figure size 432x288 with 1 Axes>"
      ]
     },
     "metadata": {
      "needs_background": "light"
     },
     "output_type": "display_data"
    }
   ],
   "source": [
    "sns.histplot(data=file, x='income', hue='response')"
   ]
  },
  {
   "cell_type": "markdown",
   "id": "e2ed640b",
   "metadata": {},
   "source": [
    "''''"
   ]
  },
  {
   "cell_type": "markdown",
   "id": "2947dcac",
   "metadata": {},
   "source": [
    "LAB 4 STARTS HERE"
   ]
  },
  {
   "cell_type": "code",
   "execution_count": 32,
   "id": "3992d89a",
   "metadata": {},
   "outputs": [
    {
     "data": {
      "text/plain": [
       "customer                          object\n",
       "state                             object\n",
       "customer lifetime value          float64\n",
       "response                          object\n",
       "coverage                          object\n",
       "education                         object\n",
       "effective to date                 object\n",
       "employmentstatus                  object\n",
       "gender                            object\n",
       "income                             int64\n",
       "location code                     object\n",
       "marital status                    object\n",
       "monthly premium auto               int64\n",
       "months since last claim            int64\n",
       "months since policy inception      int64\n",
       "number of open complaints          int64\n",
       "number of policies                 int64\n",
       "policy type                       object\n",
       "policy                            object\n",
       "renew offer type                  object\n",
       "sales channel                     object\n",
       "total claim amount               float64\n",
       "vehicle class                     object\n",
       "vehicle size                      object\n",
       "dtype: object"
      ]
     },
     "execution_count": 32,
     "metadata": {},
     "output_type": "execute_result"
    }
   ],
   "source": [
    "file.dtypes"
   ]
  },
  {
   "cell_type": "code",
   "execution_count": 33,
   "id": "c6aad356",
   "metadata": {},
   "outputs": [
    {
     "data": {
      "text/plain": [
       "customer lifetime value          float64\n",
       "income                             int64\n",
       "monthly premium auto               int64\n",
       "months since last claim            int64\n",
       "months since policy inception      int64\n",
       "number of open complaints          int64\n",
       "number of policies                 int64\n",
       "total claim amount               float64\n",
       "dtype: object"
      ]
     },
     "metadata": {},
     "output_type": "display_data"
    },
    {
     "data": {
      "text/plain": [
       "customer             object\n",
       "state                object\n",
       "response             object\n",
       "coverage             object\n",
       "education            object\n",
       "effective to date    object\n",
       "employmentstatus     object\n",
       "gender               object\n",
       "location code        object\n",
       "marital status       object\n",
       "policy type          object\n",
       "policy               object\n",
       "renew offer type     object\n",
       "sales channel        object\n",
       "vehicle class        object\n",
       "vehicle size         object\n",
       "dtype: object"
      ]
     },
     "metadata": {},
     "output_type": "display_data"
    }
   ],
   "source": [
    "numerical=file.select_dtypes(include=np.number)\n",
    "categorical=file.select_dtypes(include=object)\n",
    "display(numerical.dtypes)\n",
    "display(categorical.dtypes)"
   ]
  },
  {
   "cell_type": "code",
   "execution_count": 34,
   "id": "55cb6e60",
   "metadata": {},
   "outputs": [],
   "source": [
    "categorical=categorical.drop(columns=['customer'])"
   ]
  },
  {
   "cell_type": "code",
   "execution_count": 35,
   "id": "9ac14c55",
   "metadata": {},
   "outputs": [
    {
     "data": {
      "image/png": "[encoded data removed]",
      "text/plain": [
       "<Figure size 360x360 with 1 Axes>"
      ]
     },
     "metadata": {
      "needs_background": "light"
     },
     "output_type": "display_data"
    },
    {
     "data": {
      "image/png": "[encoded data removed]",
      "text/plain": [
       "<Figure size 360x360 with 1 Axes>"
      ]
     },
     "metadata": {
      "needs_background": "light"
     },
     "output_type": "display_data"
    },
    {
     "data": {
      "image/png": "[encoded data removed]",
      "text/plain": [
       "<Figure size 360x360 with 1 Axes>"
      ]
     },
     "metadata": {
      "needs_background": "light"
     },
     "output_type": "display_data"
    },
    {
     "data": {
      "image/png": "[encoded data removed]",
      "text/plain": [
       "<Figure size 360x360 with 1 Axes>"
      ]
     },
     "metadata": {
      "needs_background": "light"
     },
     "output_type": "display_data"
    },
    {
     "data": {
      "image/png": "[encoded data removed]",
      "text/plain": [
       "<Figure size 360x360 with 1 Axes>"
      ]
     },
     "metadata": {
      "needs_background": "light"
     },
     "output_type": "display_data"
    },
    {
     "data": {
      "image/png": "[encoded data removed]",
      "text/plain": [
       "<Figure size 360x360 with 1 Axes>"
      ]
     },
     "metadata": {
      "needs_background": "light"
     },
     "output_type": "display_data"
    },
    {
     "data": {
      "image/png": "[encoded data removed]",
      "text/plain": [
       "<Figure size 360x360 with 1 Axes>"
      ]
     },
     "metadata": {
      "needs_background": "light"
     },
     "output_type": "display_data"
    },
    {
     "data": {
      "image/png": "[encoded data removed]",
      "text/plain": [
       "<Figure size 360x360 with 1 Axes>"
      ]
     },
     "metadata": {
      "needs_background": "light"
     },
     "output_type": "display_data"
    }
   ],
   "source": [
    "for col in numerical.columns:\n",
    "    sns.displot(numerical[col])"
   ]
  },
  {
   "cell_type": "code",
   "execution_count": 36,
   "id": "ded12189",
   "metadata": {},
   "outputs": [
    {
     "data": {
      "image/png": "[encoded data removed]",
      "text/plain": [
       "<Figure size 1080x360 with 1 Axes>"
      ]
     },
     "metadata": {
      "needs_background": "light"
     },
     "output_type": "display_data"
    },
    {
     "data": {
      "image/png": "[encoded data removed]",
      "text/plain": [
       "<Figure size 1080x360 with 1 Axes>"
      ]
     },
     "metadata": {
      "needs_background": "light"
     },
     "output_type": "display_data"
    },
    {
     "data": {
      "image/png": "[encoded data removed]",
      "text/plain": [
       "<Figure size 1080x360 with 1 Axes>"
      ]
     },
     "metadata": {
      "needs_background": "light"
     },
     "output_type": "display_data"
    },
    {
     "data": {
      "image/png": "[encoded data removed]",
      "text/plain": [
       "<Figure size 1080x360 with 1 Axes>"
      ]
     },
     "metadata": {
      "needs_background": "light"
     },
     "output_type": "display_data"
    },
    {
     "data": {
      "image/png": "[encoded data removed]",
      "text/plain": [
       "<Figure size 1080x360 with 1 Axes>"
      ]
     },
     "metadata": {
      "needs_background": "light"
     },
     "output_type": "display_data"
    },
    {
     "data": {
      "image/png": "[encoded data removed]",
      "text/plain": [
       "<Figure size 1080x360 with 1 Axes>"
      ]
     },
     "metadata": {
      "needs_background": "light"
     },
     "output_type": "display_data"
    },
    {
     "data": {
      "image/png": "[encoded data removed]",
      "text/plain": [
       "<Figure size 1080x360 with 1 Axes>"
      ]
     },
     "metadata": {
      "needs_background": "light"
     },
     "output_type": "display_data"
    },
    {
     "data": {
      "image/png": "[encoded data removed]",
      "text/plain": [
       "<Figure size 1080x360 with 1 Axes>"
      ]
     },
     "metadata": {
      "needs_background": "light"
     },
     "output_type": "display_data"
    },
    {
     "data": {
      "image/png": "[encoded data removed]",
      "text/plain": [
       "<Figure size 1080x360 with 1 Axes>"
      ]
     },
     "metadata": {
      "needs_background": "light"
     },
     "output_type": "display_data"
    },
    {
     "data": {
      "image/png": "[encoded data removed]",
      "text/plain": [
       "<Figure size 1080x360 with 1 Axes>"
      ]
     },
     "metadata": {
      "needs_background": "light"
     },
     "output_type": "display_data"
    },
    {
     "data": {
      "image/png": "[encoded data removed]",
      "text/plain": [
       "<Figure size 1080x360 with 1 Axes>"
      ]
     },
     "metadata": {
      "needs_background": "light"
     },
     "output_type": "display_data"
    },
    {
     "data": {
      "image/png": "[encoded data removed]",
      "text/plain": [
       "<Figure size 1080x360 with 1 Axes>"
      ]
     },
     "metadata": {
      "needs_background": "light"
     },
     "output_type": "display_data"
    },
    {
     "data": {
      "image/png": "[encoded data removed]",
      "text/plain": [
       "<Figure size 1080x360 with 1 Axes>"
      ]
     },
     "metadata": {
      "needs_background": "light"
     },
     "output_type": "display_data"
    },
    {
     "data": {
      "image/png": "[encoded data removed]",
      "text/plain": [
       "<Figure size 1080x360 with 1 Axes>"
      ]
     },
     "metadata": {
      "needs_background": "light"
     },
     "output_type": "display_data"
    },
    {
     "data": {
      "image/png": "[encoded data removed]",
      "text/plain": [
       "<Figure size 1080x360 with 1 Axes>"
      ]
     },
     "metadata": {
      "needs_background": "light"
     },
     "output_type": "display_data"
    }
   ],
   "source": [
    "for col in categorical.columns:\n",
    "    fig, axes = plt.subplots(figsize=(15,5))\n",
    "    plt.hist(x=file[col], bins=file[col].nunique())\n",
    "    axes.set_xlabel(col.capitalize())\n",
    "    plt.show()"
   ]
  },
  {
   "cell_type": "markdown",
   "id": "fefd2b9e",
   "metadata": {},
   "source": [
    "at a first glance all of our data seems to be skewed"
   ]
  },
  {
   "cell_type": "code",
   "execution_count": 37,
   "id": "4b8af8f8",
   "metadata": {},
   "outputs": [
    {
     "data": {
      "text/html": [
       "<style type=\"text/css\">\n",
       "#T_602b5_row0_col0, #T_602b5_row1_col1, #T_602b5_row2_col2, #T_602b5_row3_col3, #T_602b5_row4_col4, #T_602b5_row5_col5, #T_602b5_row6_col6, #T_602b5_row7_col7 {\n",
       "  background-color: #67001f;\n",
       "  color: #f1f1f1;\n",
       "}\n",
       "#T_602b5_row0_col1 {\n",
       "  background-color: #81bad8;\n",
       "  color: #000000;\n",
       "}\n",
       "#T_602b5_row0_col2 {\n",
       "  background-color: #d2e6f0;\n",
       "  color: #000000;\n",
       "}\n",
       "#T_602b5_row0_col3 {\n",
       "  background-color: #134c87;\n",
       "  color: #f1f1f1;\n",
       "}\n",
       "#T_602b5_row0_col4, #T_602b5_row6_col3, #T_602b5_row7_col3 {\n",
       "  background-color: #124984;\n",
       "  color: #f1f1f1;\n",
       "}\n",
       "#T_602b5_row0_col5, #T_602b5_row1_col2, #T_602b5_row1_col7, #T_602b5_row2_col6, #T_602b5_row3_col4, #T_602b5_row4_col3, #T_602b5_row4_col6, #T_602b5_row5_col0, #T_602b5_row5_col2, #T_602b5_row7_col1 {\n",
       "  background-color: #053061;\n",
       "  color: #f1f1f1;\n",
       "}\n",
       "#T_602b5_row0_col6, #T_602b5_row4_col5 {\n",
       "  background-color: #0e4179;\n",
       "  color: #f1f1f1;\n",
       "}\n",
       "#T_602b5_row0_col7 {\n",
       "  background-color: #dbeaf2;\n",
       "  color: #000000;\n",
       "}\n",
       "#T_602b5_row1_col0, #T_602b5_row6_col0 {\n",
       "  background-color: #144e8a;\n",
       "  color: #f1f1f1;\n",
       "}\n",
       "#T_602b5_row1_col3, #T_602b5_row5_col6 {\n",
       "  background-color: #08366a;\n",
       "  color: #f1f1f1;\n",
       "}\n",
       "#T_602b5_row1_col4, #T_602b5_row1_col5, #T_602b5_row3_col5, #T_602b5_row5_col4 {\n",
       "  background-color: #10457e;\n",
       "  color: #f1f1f1;\n",
       "}\n",
       "#T_602b5_row1_col6, #T_602b5_row6_col2 {\n",
       "  background-color: #063264;\n",
       "  color: #f1f1f1;\n",
       "}\n",
       "#T_602b5_row2_col0 {\n",
       "  background-color: #d7e8f1;\n",
       "  color: #000000;\n",
       "}\n",
       "#T_602b5_row2_col1 {\n",
       "  background-color: #68abd0;\n",
       "  color: #f1f1f1;\n",
       "}\n",
       "#T_602b5_row2_col3, #T_602b5_row3_col0, #T_602b5_row4_col0, #T_602b5_row5_col3, #T_602b5_row7_col4 {\n",
       "  background-color: #114781;\n",
       "  color: #f1f1f1;\n",
       "}\n",
       "#T_602b5_row2_col4 {\n",
       "  background-color: #15508d;\n",
       "  color: #f1f1f1;\n",
       "}\n",
       "#T_602b5_row2_col5, #T_602b5_row3_col2, #T_602b5_row3_col6, #T_602b5_row7_col5 {\n",
       "  background-color: #0a3b70;\n",
       "  color: #f1f1f1;\n",
       "}\n",
       "#T_602b5_row2_col7 {\n",
       "  background-color: #eb9172;\n",
       "  color: #f1f1f1;\n",
       "}\n",
       "#T_602b5_row3_col1 {\n",
       "  background-color: #65a9cf;\n",
       "  color: #f1f1f1;\n",
       "}\n",
       "#T_602b5_row3_col7, #T_602b5_row5_col1 {\n",
       "  background-color: #78b4d5;\n",
       "  color: #000000;\n",
       "}\n",
       "#T_602b5_row4_col1, #T_602b5_row6_col7 {\n",
       "  background-color: #71b0d3;\n",
       "  color: #f1f1f1;\n",
       "}\n",
       "#T_602b5_row4_col2, #T_602b5_row6_col5 {\n",
       "  background-color: #0f437b;\n",
       "  color: #f1f1f1;\n",
       "}\n",
       "#T_602b5_row4_col7 {\n",
       "  background-color: #75b2d4;\n",
       "  color: #f1f1f1;\n",
       "}\n",
       "#T_602b5_row5_col7, #T_602b5_row7_col0 {\n",
       "  background-color: #6bacd1;\n",
       "  color: #f1f1f1;\n",
       "}\n",
       "#T_602b5_row6_col1 {\n",
       "  background-color: #6eaed2;\n",
       "  color: #f1f1f1;\n",
       "}\n",
       "#T_602b5_row6_col4 {\n",
       "  background-color: #0d3f76;\n",
       "  color: #f1f1f1;\n",
       "}\n",
       "#T_602b5_row7_col2 {\n",
       "  background-color: #f9c6ac;\n",
       "  color: #000000;\n",
       "}\n",
       "#T_602b5_row7_col6 {\n",
       "  background-color: #073467;\n",
       "  color: #f1f1f1;\n",
       "}\n",
       "</style>\n",
       "<table id=\"T_602b5\">\n",
       "  <thead>\n",
       "    <tr>\n",
       "      <th class=\"blank level0\" >&nbsp;</th>\n",
       "      <th id=\"T_602b5_level0_col0\" class=\"col_heading level0 col0\" >customer lifetime value</th>\n",
       "      <th id=\"T_602b5_level0_col1\" class=\"col_heading level0 col1\" >income</th>\n",
       "      <th id=\"T_602b5_level0_col2\" class=\"col_heading level0 col2\" >monthly premium auto</th>\n",
       "      <th id=\"T_602b5_level0_col3\" class=\"col_heading level0 col3\" >months since last claim</th>\n",
       "      <th id=\"T_602b5_level0_col4\" class=\"col_heading level0 col4\" >months since policy inception</th>\n",
       "      <th id=\"T_602b5_level0_col5\" class=\"col_heading level0 col5\" >number of open complaints</th>\n",
       "      <th id=\"T_602b5_level0_col6\" class=\"col_heading level0 col6\" >number of policies</th>\n",
       "      <th id=\"T_602b5_level0_col7\" class=\"col_heading level0 col7\" >total claim amount</th>\n",
       "    </tr>\n",
       "  </thead>\n",
       "  <tbody>\n",
       "    <tr>\n",
       "      <th id=\"T_602b5_level0_row0\" class=\"row_heading level0 row0\" >customer lifetime value</th>\n",
       "      <td id=\"T_602b5_row0_col0\" class=\"data row0 col0\" >1.00</td>\n",
       "      <td id=\"T_602b5_row0_col1\" class=\"data row0 col1\" >0.02</td>\n",
       "      <td id=\"T_602b5_row0_col2\" class=\"data row0 col2\" >0.40</td>\n",
       "      <td id=\"T_602b5_row0_col3\" class=\"data row0 col3\" >0.01</td>\n",
       "      <td id=\"T_602b5_row0_col4\" class=\"data row0 col4\" >0.01</td>\n",
       "      <td id=\"T_602b5_row0_col5\" class=\"data row0 col5\" >-0.04</td>\n",
       "      <td id=\"T_602b5_row0_col6\" class=\"data row0 col6\" >0.02</td>\n",
       "      <td id=\"T_602b5_row0_col7\" class=\"data row0 col7\" >0.23</td>\n",
       "    </tr>\n",
       "    <tr>\n",
       "      <th id=\"T_602b5_level0_row1\" class=\"row_heading level0 row1\" >income</th>\n",
       "      <td id=\"T_602b5_row1_col0\" class=\"data row1 col0\" >0.02</td>\n",
       "      <td id=\"T_602b5_row1_col1\" class=\"data row1 col1\" >1.00</td>\n",
       "      <td id=\"T_602b5_row1_col2\" class=\"data row1 col2\" >-0.02</td>\n",
       "      <td id=\"T_602b5_row1_col3\" class=\"data row1 col3\" >-0.03</td>\n",
       "      <td id=\"T_602b5_row1_col4\" class=\"data row1 col4\" >-0.00</td>\n",
       "      <td id=\"T_602b5_row1_col5\" class=\"data row1 col5\" >0.01</td>\n",
       "      <td id=\"T_602b5_row1_col6\" class=\"data row1 col6\" >-0.01</td>\n",
       "      <td id=\"T_602b5_row1_col7\" class=\"data row1 col7\" >-0.36</td>\n",
       "    </tr>\n",
       "    <tr>\n",
       "      <th id=\"T_602b5_level0_row2\" class=\"row_heading level0 row2\" >monthly premium auto</th>\n",
       "      <td id=\"T_602b5_row2_col0\" class=\"data row2 col0\" >0.40</td>\n",
       "      <td id=\"T_602b5_row2_col1\" class=\"data row2 col1\" >-0.02</td>\n",
       "      <td id=\"T_602b5_row2_col2\" class=\"data row2 col2\" >1.00</td>\n",
       "      <td id=\"T_602b5_row2_col3\" class=\"data row2 col3\" >0.01</td>\n",
       "      <td id=\"T_602b5_row2_col4\" class=\"data row2 col4\" >0.02</td>\n",
       "      <td id=\"T_602b5_row2_col5\" class=\"data row2 col5\" >-0.01</td>\n",
       "      <td id=\"T_602b5_row2_col6\" class=\"data row2 col6\" >-0.01</td>\n",
       "      <td id=\"T_602b5_row2_col7\" class=\"data row2 col7\" >0.63</td>\n",
       "    </tr>\n",
       "    <tr>\n",
       "      <th id=\"T_602b5_level0_row3\" class=\"row_heading level0 row3\" >months since last claim</th>\n",
       "      <td id=\"T_602b5_row3_col0\" class=\"data row3 col0\" >0.01</td>\n",
       "      <td id=\"T_602b5_row3_col1\" class=\"data row3 col1\" >-0.03</td>\n",
       "      <td id=\"T_602b5_row3_col2\" class=\"data row3 col2\" >0.01</td>\n",
       "      <td id=\"T_602b5_row3_col3\" class=\"data row3 col3\" >1.00</td>\n",
       "      <td id=\"T_602b5_row3_col4\" class=\"data row3 col4\" >-0.04</td>\n",
       "      <td id=\"T_602b5_row3_col5\" class=\"data row3 col5\" >0.01</td>\n",
       "      <td id=\"T_602b5_row3_col6\" class=\"data row3 col6\" >0.01</td>\n",
       "      <td id=\"T_602b5_row3_col7\" class=\"data row3 col7\" >0.01</td>\n",
       "    </tr>\n",
       "    <tr>\n",
       "      <th id=\"T_602b5_level0_row4\" class=\"row_heading level0 row4\" >months since policy inception</th>\n",
       "      <td id=\"T_602b5_row4_col0\" class=\"data row4 col0\" >0.01</td>\n",
       "      <td id=\"T_602b5_row4_col1\" class=\"data row4 col1\" >-0.00</td>\n",
       "      <td id=\"T_602b5_row4_col2\" class=\"data row4 col2\" >0.02</td>\n",
       "      <td id=\"T_602b5_row4_col3\" class=\"data row4 col3\" >-0.04</td>\n",
       "      <td id=\"T_602b5_row4_col4\" class=\"data row4 col4\" >1.00</td>\n",
       "      <td id=\"T_602b5_row4_col5\" class=\"data row4 col5\" >-0.00</td>\n",
       "      <td id=\"T_602b5_row4_col6\" class=\"data row4 col6\" >-0.01</td>\n",
       "      <td id=\"T_602b5_row4_col7\" class=\"data row4 col7\" >0.00</td>\n",
       "    </tr>\n",
       "    <tr>\n",
       "      <th id=\"T_602b5_level0_row5\" class=\"row_heading level0 row5\" >number of open complaints</th>\n",
       "      <td id=\"T_602b5_row5_col0\" class=\"data row5 col0\" >-0.04</td>\n",
       "      <td id=\"T_602b5_row5_col1\" class=\"data row5 col1\" >0.01</td>\n",
       "      <td id=\"T_602b5_row5_col2\" class=\"data row5 col2\" >-0.01</td>\n",
       "      <td id=\"T_602b5_row5_col3\" class=\"data row5 col3\" >0.01</td>\n",
       "      <td id=\"T_602b5_row5_col4\" class=\"data row5 col4\" >-0.00</td>\n",
       "      <td id=\"T_602b5_row5_col5\" class=\"data row5 col5\" >1.00</td>\n",
       "      <td id=\"T_602b5_row5_col6\" class=\"data row5 col6\" >0.00</td>\n",
       "      <td id=\"T_602b5_row5_col7\" class=\"data row5 col7\" >-0.01</td>\n",
       "    </tr>\n",
       "    <tr>\n",
       "      <th id=\"T_602b5_level0_row6\" class=\"row_heading level0 row6\" >number of policies</th>\n",
       "      <td id=\"T_602b5_row6_col0\" class=\"data row6 col0\" >0.02</td>\n",
       "      <td id=\"T_602b5_row6_col1\" class=\"data row6 col1\" >-0.01</td>\n",
       "      <td id=\"T_602b5_row6_col2\" class=\"data row6 col2\" >-0.01</td>\n",
       "      <td id=\"T_602b5_row6_col3\" class=\"data row6 col3\" >0.01</td>\n",
       "      <td id=\"T_602b5_row6_col4\" class=\"data row6 col4\" >-0.01</td>\n",
       "      <td id=\"T_602b5_row6_col5\" class=\"data row6 col5\" >0.00</td>\n",
       "      <td id=\"T_602b5_row6_col6\" class=\"data row6 col6\" >1.00</td>\n",
       "      <td id=\"T_602b5_row6_col7\" class=\"data row6 col7\" >-0.00</td>\n",
       "    </tr>\n",
       "    <tr>\n",
       "      <th id=\"T_602b5_level0_row7\" class=\"row_heading level0 row7\" >total claim amount</th>\n",
       "      <td id=\"T_602b5_row7_col0\" class=\"data row7 col0\" >0.23</td>\n",
       "      <td id=\"T_602b5_row7_col1\" class=\"data row7 col1\" >-0.36</td>\n",
       "      <td id=\"T_602b5_row7_col2\" class=\"data row7 col2\" >0.63</td>\n",
       "      <td id=\"T_602b5_row7_col3\" class=\"data row7 col3\" >0.01</td>\n",
       "      <td id=\"T_602b5_row7_col4\" class=\"data row7 col4\" >0.00</td>\n",
       "      <td id=\"T_602b5_row7_col5\" class=\"data row7 col5\" >-0.01</td>\n",
       "      <td id=\"T_602b5_row7_col6\" class=\"data row7 col6\" >-0.00</td>\n",
       "      <td id=\"T_602b5_row7_col7\" class=\"data row7 col7\" >1.00</td>\n",
       "    </tr>\n",
       "  </tbody>\n",
       "</table>\n"
      ],
      "text/plain": [
       "<pandas.io.formats.style.Styler at 0x28e387db910>"
      ]
     },
     "execution_count": 37,
     "metadata": {},
     "output_type": "execute_result"
    }
   ],
   "source": [
    "corr=numerical.corr()\n",
    "corr.style.background_gradient(cmap='RdBu_r').format(precision=2)"
   ]
  },
  {
   "cell_type": "code",
   "execution_count": 38,
   "id": "ac2c6b7b",
   "metadata": {},
   "outputs": [
    {
     "data": {
      "image/png": "[encoded data removed]",
      "text/plain": [
       "<Figure size 720x576 with 2 Axes>"
      ]
     },
     "metadata": {
      "needs_background": "light"
     },
     "output_type": "display_data"
    }
   ],
   "source": [
    "fig, ax = plt.subplots(figsize=(10, 8))\n",
    "sns.heatmap(corr, annot=True, ax = ax)\n",
    "plt.show()"
   ]
  },
  {
   "cell_type": "markdown",
   "id": "940eb1a5",
   "metadata": {},
   "source": [
    "at a frist glance there don't seem to be any features with a high correlation"
   ]
  },
  {
   "cell_type": "markdown",
   "id": "79e8d548",
   "metadata": {},
   "source": [
    "''''"
   ]
  },
  {
   "cell_type": "markdown",
   "id": "d68e3ece",
   "metadata": {},
   "source": [
    "LAB 5 STARTS HERE"
   ]
  },
  {
   "cell_type": "code",
   "execution_count": 39,
   "id": "4149f119",
   "metadata": {},
   "outputs": [],
   "source": [
    "y=numerical['total claim amount']\n",
    "X=numerical.drop('total claim amount', axis=1)"
   ]
  },
  {
   "cell_type": "code",
   "execution_count": 40,
   "id": "e9bfe5f1",
   "metadata": {},
   "outputs": [
    {
     "data": {
      "image/png": "[encoded data removed]",
      "text/plain": [
       "<Figure size 360x360 with 1 Axes>"
      ]
     },
     "metadata": {
      "needs_background": "light"
     },
     "output_type": "display_data"
    },
    {
     "data": {
      "image/png": "[encoded data removed]",
      "text/plain": [
       "<Figure size 360x360 with 1 Axes>"
      ]
     },
     "metadata": {
      "needs_background": "light"
     },
     "output_type": "display_data"
    },
    {
     "data": {
      "image/png": "[encoded data removed]",
      "text/plain": [
       "<Figure size 360x360 with 1 Axes>"
      ]
     },
     "metadata": {
      "needs_background": "light"
     },
     "output_type": "display_data"
    },
    {
     "data": {
      "image/png": "[encoded data removed]",
      "text/plain": [
       "<Figure size 360x360 with 1 Axes>"
      ]
     },
     "metadata": {
      "needs_background": "light"
     },
     "output_type": "display_data"
    },
    {
     "data": {
      "image/png": "[encoded data removed]",
      "text/plain": [
       "<Figure size 360x360 with 1 Axes>"
      ]
     },
     "metadata": {
      "needs_background": "light"
     },
     "output_type": "display_data"
    },
    {
     "data": {
      "image/png": "[encoded data removed]",
      "text/plain": [
       "<Figure size 360x360 with 1 Axes>"
      ]
     },
     "metadata": {
      "needs_background": "light"
     },
     "output_type": "display_data"
    },
    {
     "data": {
      "image/png": "[encoded data removed]",
      "text/plain": [
       "<Figure size 360x360 with 1 Axes>"
      ]
     },
     "metadata": {
      "needs_background": "light"
     },
     "output_type": "display_data"
    }
   ],
   "source": [
    "for i in range(X.shape[1]):\n",
    "    sns.displot(X.iloc[:,i])\n",
    "    plt.show()"
   ]
  },
  {
   "cell_type": "code",
   "execution_count": 41,
   "id": "7ba478ab",
   "metadata": {},
   "outputs": [],
   "source": [
    "from sklearn.preprocessing import PowerTransformer\n",
    "transformer = PowerTransformer()\n",
    "transformer.fit(X)\n",
    "X_stan = transformer.transform(X)\n",
    "X_stan=pd.DataFrame(X_stan)\n",
    "X_stan.columns=X.columns"
   ]
  },
  {
   "cell_type": "code",
   "execution_count": 42,
   "id": "3b17dd6c",
   "metadata": {},
   "outputs": [
    {
     "data": {
      "image/png": "[encoded data removed]",
      "text/plain": [
       "<Figure size 360x360 with 1 Axes>"
      ]
     },
     "metadata": {
      "needs_background": "light"
     },
     "output_type": "display_data"
    },
    {
     "data": {
      "image/png": "[encoded data removed]",
      "text/plain": [
       "<Figure size 360x360 with 1 Axes>"
      ]
     },
     "metadata": {
      "needs_background": "light"
     },
     "output_type": "display_data"
    },
    {
     "data": {
      "image/png": "[encoded data removed]",
      "text/plain": [
       "<Figure size 360x360 with 1 Axes>"
      ]
     },
     "metadata": {
      "needs_background": "light"
     },
     "output_type": "display_data"
    },
    {
     "data": {
      "image/png": "[encoded data removed]",
      "text/plain": [
       "<Figure size 360x360 with 1 Axes>"
      ]
     },
     "metadata": {
      "needs_background": "light"
     },
     "output_type": "display_data"
    },
    {
     "data": {
      "image/png": "[encoded data removed]",
      "text/plain": [
       "<Figure size 360x360 with 1 Axes>"
      ]
     },
     "metadata": {
      "needs_background": "light"
     },
     "output_type": "display_data"
    },
    {
     "data": {
      "image/png": "[encoded data removed]",
      "text/plain": [
       "<Figure size 360x360 with 1 Axes>"
      ]
     },
     "metadata": {
      "needs_background": "light"
     },
     "output_type": "display_data"
    },
    {
     "data": {
      "image/png": "[encoded data removed]",
      "text/plain": [
       "<Figure size 360x360 with 1 Axes>"
      ]
     },
     "metadata": {
      "needs_background": "light"
     },
     "output_type": "display_data"
    }
   ],
   "source": [
    "for i in range(X_stan.shape[1]):\n",
    "    sns.displot(X_stan.iloc[:,i])\n",
    "    plt.show()"
   ]
  },
  {
   "cell_type": "markdown",
   "id": "f8a7d843",
   "metadata": {},
   "source": [
    "''''"
   ]
  },
  {
   "cell_type": "markdown",
   "id": "69ed4e9c",
   "metadata": {},
   "source": [
    "LAB 6 STARTS HERE"
   ]
  },
  {
   "cell_type": "code",
   "execution_count": 43,
   "id": "342b0e98",
   "metadata": {},
   "outputs": [
    {
     "data": {
      "text/html": [
       "<div>\n",
       "<style scoped>\n",
       "    .dataframe tbody tr th:only-of-type {\n",
       "        vertical-align: middle;\n",
       "    }\n",
       "\n",
       "    .dataframe tbody tr th {\n",
       "        vertical-align: top;\n",
       "    }\n",
       "\n",
       "    .dataframe thead th {\n",
       "        text-align: right;\n",
       "    }\n",
       "</style>\n",
       "<table border=\"1\" class=\"dataframe\">\n",
       "  <thead>\n",
       "    <tr style=\"text-align: right;\">\n",
       "      <th></th>\n",
       "      <th>state_Arizona</th>\n",
       "      <th>state_California</th>\n",
       "      <th>state_Nevada</th>\n",
       "      <th>state_Oregon</th>\n",
       "      <th>state_Washington</th>\n",
       "      <th>response_No</th>\n",
       "      <th>response_Yes</th>\n",
       "      <th>coverage_Basic</th>\n",
       "      <th>coverage_Extended</th>\n",
       "      <th>coverage_Premium</th>\n",
       "      <th>...</th>\n",
       "      <th>sales channel_Web</th>\n",
       "      <th>vehicle class_Four-Door Car</th>\n",
       "      <th>vehicle class_Luxury Car</th>\n",
       "      <th>vehicle class_Luxury SUV</th>\n",
       "      <th>vehicle class_SUV</th>\n",
       "      <th>vehicle class_Sports Car</th>\n",
       "      <th>vehicle class_Two-Door Car</th>\n",
       "      <th>vehicle size_Large</th>\n",
       "      <th>vehicle size_Medsize</th>\n",
       "      <th>vehicle size_Small</th>\n",
       "    </tr>\n",
       "  </thead>\n",
       "  <tbody>\n",
       "    <tr>\n",
       "      <th>0</th>\n",
       "      <td>0.0</td>\n",
       "      <td>0.0</td>\n",
       "      <td>0.0</td>\n",
       "      <td>0.0</td>\n",
       "      <td>1.0</td>\n",
       "      <td>1.0</td>\n",
       "      <td>0.0</td>\n",
       "      <td>1.0</td>\n",
       "      <td>0.0</td>\n",
       "      <td>0.0</td>\n",
       "      <td>...</td>\n",
       "      <td>0.0</td>\n",
       "      <td>0.0</td>\n",
       "      <td>0.0</td>\n",
       "      <td>0.0</td>\n",
       "      <td>0.0</td>\n",
       "      <td>0.0</td>\n",
       "      <td>1.0</td>\n",
       "      <td>0.0</td>\n",
       "      <td>1.0</td>\n",
       "      <td>0.0</td>\n",
       "    </tr>\n",
       "    <tr>\n",
       "      <th>1</th>\n",
       "      <td>1.0</td>\n",
       "      <td>0.0</td>\n",
       "      <td>0.0</td>\n",
       "      <td>0.0</td>\n",
       "      <td>0.0</td>\n",
       "      <td>1.0</td>\n",
       "      <td>0.0</td>\n",
       "      <td>0.0</td>\n",
       "      <td>1.0</td>\n",
       "      <td>0.0</td>\n",
       "      <td>...</td>\n",
       "      <td>0.0</td>\n",
       "      <td>1.0</td>\n",
       "      <td>0.0</td>\n",
       "      <td>0.0</td>\n",
       "      <td>0.0</td>\n",
       "      <td>0.0</td>\n",
       "      <td>0.0</td>\n",
       "      <td>0.0</td>\n",
       "      <td>1.0</td>\n",
       "      <td>0.0</td>\n",
       "    </tr>\n",
       "    <tr>\n",
       "      <th>2</th>\n",
       "      <td>0.0</td>\n",
       "      <td>0.0</td>\n",
       "      <td>1.0</td>\n",
       "      <td>0.0</td>\n",
       "      <td>0.0</td>\n",
       "      <td>1.0</td>\n",
       "      <td>0.0</td>\n",
       "      <td>0.0</td>\n",
       "      <td>0.0</td>\n",
       "      <td>1.0</td>\n",
       "      <td>...</td>\n",
       "      <td>0.0</td>\n",
       "      <td>0.0</td>\n",
       "      <td>0.0</td>\n",
       "      <td>0.0</td>\n",
       "      <td>0.0</td>\n",
       "      <td>0.0</td>\n",
       "      <td>1.0</td>\n",
       "      <td>0.0</td>\n",
       "      <td>1.0</td>\n",
       "      <td>0.0</td>\n",
       "    </tr>\n",
       "    <tr>\n",
       "      <th>3</th>\n",
       "      <td>0.0</td>\n",
       "      <td>1.0</td>\n",
       "      <td>0.0</td>\n",
       "      <td>0.0</td>\n",
       "      <td>0.0</td>\n",
       "      <td>1.0</td>\n",
       "      <td>0.0</td>\n",
       "      <td>1.0</td>\n",
       "      <td>0.0</td>\n",
       "      <td>0.0</td>\n",
       "      <td>...</td>\n",
       "      <td>0.0</td>\n",
       "      <td>0.0</td>\n",
       "      <td>0.0</td>\n",
       "      <td>0.0</td>\n",
       "      <td>1.0</td>\n",
       "      <td>0.0</td>\n",
       "      <td>0.0</td>\n",
       "      <td>0.0</td>\n",
       "      <td>1.0</td>\n",
       "      <td>0.0</td>\n",
       "    </tr>\n",
       "    <tr>\n",
       "      <th>4</th>\n",
       "      <td>0.0</td>\n",
       "      <td>0.0</td>\n",
       "      <td>0.0</td>\n",
       "      <td>0.0</td>\n",
       "      <td>1.0</td>\n",
       "      <td>1.0</td>\n",
       "      <td>0.0</td>\n",
       "      <td>1.0</td>\n",
       "      <td>0.0</td>\n",
       "      <td>0.0</td>\n",
       "      <td>...</td>\n",
       "      <td>0.0</td>\n",
       "      <td>1.0</td>\n",
       "      <td>0.0</td>\n",
       "      <td>0.0</td>\n",
       "      <td>0.0</td>\n",
       "      <td>0.0</td>\n",
       "      <td>0.0</td>\n",
       "      <td>0.0</td>\n",
       "      <td>1.0</td>\n",
       "      <td>0.0</td>\n",
       "    </tr>\n",
       "  </tbody>\n",
       "</table>\n",
       "<p>5 rows × 116 columns</p>\n",
       "</div>"
      ],
      "text/plain": [
       "   state_Arizona  state_California  state_Nevada  state_Oregon  \\\n",
       "0            0.0               0.0           0.0           0.0   \n",
       "1            1.0               0.0           0.0           0.0   \n",
       "2            0.0               0.0           1.0           0.0   \n",
       "3            0.0               1.0           0.0           0.0   \n",
       "4            0.0               0.0           0.0           0.0   \n",
       "\n",
       "   state_Washington  response_No  response_Yes  coverage_Basic  \\\n",
       "0               1.0          1.0           0.0             1.0   \n",
       "1               0.0          1.0           0.0             0.0   \n",
       "2               0.0          1.0           0.0             0.0   \n",
       "3               0.0          1.0           0.0             1.0   \n",
       "4               1.0          1.0           0.0             1.0   \n",
       "\n",
       "   coverage_Extended  coverage_Premium  ...  sales channel_Web  \\\n",
       "0                0.0               0.0  ...                0.0   \n",
       "1                1.0               0.0  ...                0.0   \n",
       "2                0.0               1.0  ...                0.0   \n",
       "3                0.0               0.0  ...                0.0   \n",
       "4                0.0               0.0  ...                0.0   \n",
       "\n",
       "   vehicle class_Four-Door Car  vehicle class_Luxury Car  \\\n",
       "0                          0.0                       0.0   \n",
       "1                          1.0                       0.0   \n",
       "2                          0.0                       0.0   \n",
       "3                          0.0                       0.0   \n",
       "4                          1.0                       0.0   \n",
       "\n",
       "   vehicle class_Luxury SUV  vehicle class_SUV  vehicle class_Sports Car  \\\n",
       "0                       0.0                0.0                       0.0   \n",
       "1                       0.0                0.0                       0.0   \n",
       "2                       0.0                0.0                       0.0   \n",
       "3                       0.0                1.0                       0.0   \n",
       "4                       0.0                0.0                       0.0   \n",
       "\n",
       "   vehicle class_Two-Door Car  vehicle size_Large  vehicle size_Medsize  \\\n",
       "0                         1.0                 0.0                   1.0   \n",
       "1                         0.0                 0.0                   1.0   \n",
       "2                         1.0                 0.0                   1.0   \n",
       "3                         0.0                 0.0                   1.0   \n",
       "4                         0.0                 0.0                   1.0   \n",
       "\n",
       "   vehicle size_Small  \n",
       "0                 0.0  \n",
       "1                 0.0  \n",
       "2                 0.0  \n",
       "3                 0.0  \n",
       "4                 0.0  \n",
       "\n",
       "[5 rows x 116 columns]"
      ]
     },
     "execution_count": 43,
     "metadata": {},
     "output_type": "execute_result"
    }
   ],
   "source": [
    "from sklearn.preprocessing import OneHotEncoder\n",
    "encoder = OneHotEncoder()\n",
    "encoder.fit(categorical)\n",
    "encoded = encoder.transform(categorical).toarray()\n",
    "cat_encoded = pd.DataFrame(encoded,columns=encoder.get_feature_names_out())\n",
    "cat_encoded.head()"
   ]
  },
  {
   "cell_type": "code",
   "execution_count": 44,
   "id": "2df9ae75",
   "metadata": {},
   "outputs": [
    {
     "data": {
      "text/html": [
       "<div>\n",
       "<style scoped>\n",
       "    .dataframe tbody tr th:only-of-type {\n",
       "        vertical-align: middle;\n",
       "    }\n",
       "\n",
       "    .dataframe tbody tr th {\n",
       "        vertical-align: top;\n",
       "    }\n",
       "\n",
       "    .dataframe thead th {\n",
       "        text-align: right;\n",
       "    }\n",
       "</style>\n",
       "<table border=\"1\" class=\"dataframe\">\n",
       "  <thead>\n",
       "    <tr style=\"text-align: right;\">\n",
       "      <th></th>\n",
       "      <th>customer lifetime value</th>\n",
       "      <th>income</th>\n",
       "      <th>monthly premium auto</th>\n",
       "      <th>months since last claim</th>\n",
       "      <th>months since policy inception</th>\n",
       "      <th>number of open complaints</th>\n",
       "      <th>number of policies</th>\n",
       "      <th>state_Arizona</th>\n",
       "      <th>state_California</th>\n",
       "      <th>state_Nevada</th>\n",
       "      <th>...</th>\n",
       "      <th>sales channel_Web</th>\n",
       "      <th>vehicle class_Four-Door Car</th>\n",
       "      <th>vehicle class_Luxury Car</th>\n",
       "      <th>vehicle class_Luxury SUV</th>\n",
       "      <th>vehicle class_SUV</th>\n",
       "      <th>vehicle class_Sports Car</th>\n",
       "      <th>vehicle class_Two-Door Car</th>\n",
       "      <th>vehicle size_Large</th>\n",
       "      <th>vehicle size_Medsize</th>\n",
       "      <th>vehicle size_Small</th>\n",
       "    </tr>\n",
       "  </thead>\n",
       "  <tbody>\n",
       "    <tr>\n",
       "      <th>0</th>\n",
       "      <td>-1.394947</td>\n",
       "      <td>0.691719</td>\n",
       "      <td>-0.850901</td>\n",
       "      <td>1.464556</td>\n",
       "      <td>-1.716791</td>\n",
       "      <td>-0.509289</td>\n",
       "      <td>-1.145850</td>\n",
       "      <td>0.0</td>\n",
       "      <td>0.0</td>\n",
       "      <td>0.0</td>\n",
       "      <td>...</td>\n",
       "      <td>0.0</td>\n",
       "      <td>0.0</td>\n",
       "      <td>0.0</td>\n",
       "      <td>0.0</td>\n",
       "      <td>0.0</td>\n",
       "      <td>0.0</td>\n",
       "      <td>1.0</td>\n",
       "      <td>0.0</td>\n",
       "      <td>1.0</td>\n",
       "      <td>0.0</td>\n",
       "    </tr>\n",
       "    <tr>\n",
       "      <th>1</th>\n",
       "      <td>0.271651</td>\n",
       "      <td>-1.641026</td>\n",
       "      <td>0.433173</td>\n",
       "      <td>-0.040371</td>\n",
       "      <td>-0.113063</td>\n",
       "      <td>-0.509289</td>\n",
       "      <td>1.577821</td>\n",
       "      <td>1.0</td>\n",
       "      <td>0.0</td>\n",
       "      <td>0.0</td>\n",
       "      <td>...</td>\n",
       "      <td>0.0</td>\n",
       "      <td>1.0</td>\n",
       "      <td>0.0</td>\n",
       "      <td>0.0</td>\n",
       "      <td>0.0</td>\n",
       "      <td>0.0</td>\n",
       "      <td>0.0</td>\n",
       "      <td>0.0</td>\n",
       "      <td>1.0</td>\n",
       "      <td>0.0</td>\n",
       "    </tr>\n",
       "    <tr>\n",
       "      <th>2</th>\n",
       "      <td>1.114847</td>\n",
       "      <td>0.596805</td>\n",
       "      <td>0.847014</td>\n",
       "      <td>0.416410</td>\n",
       "      <td>-0.255772</td>\n",
       "      <td>-0.509289</td>\n",
       "      <td>-0.058430</td>\n",
       "      <td>0.0</td>\n",
       "      <td>0.0</td>\n",
       "      <td>1.0</td>\n",
       "      <td>...</td>\n",
       "      <td>0.0</td>\n",
       "      <td>0.0</td>\n",
       "      <td>0.0</td>\n",
       "      <td>0.0</td>\n",
       "      <td>0.0</td>\n",
       "      <td>0.0</td>\n",
       "      <td>1.0</td>\n",
       "      <td>0.0</td>\n",
       "      <td>1.0</td>\n",
       "      <td>0.0</td>\n",
       "    </tr>\n",
       "    <tr>\n",
       "      <th>3</th>\n",
       "      <td>0.408620</td>\n",
       "      <td>-1.641026</td>\n",
       "      <td>0.796044</td>\n",
       "      <td>0.416410</td>\n",
       "      <td>0.644648</td>\n",
       "      <td>-0.509289</td>\n",
       "      <td>1.464360</td>\n",
       "      <td>0.0</td>\n",
       "      <td>1.0</td>\n",
       "      <td>0.0</td>\n",
       "      <td>...</td>\n",
       "      <td>0.0</td>\n",
       "      <td>0.0</td>\n",
       "      <td>0.0</td>\n",
       "      <td>0.0</td>\n",
       "      <td>1.0</td>\n",
       "      <td>0.0</td>\n",
       "      <td>0.0</td>\n",
       "      <td>0.0</td>\n",
       "      <td>1.0</td>\n",
       "      <td>0.0</td>\n",
       "    </tr>\n",
       "    <tr>\n",
       "      <th>4</th>\n",
       "      <td>-1.357236</td>\n",
       "      <td>0.528534</td>\n",
       "      <td>-0.572139</td>\n",
       "      <td>-0.140125</td>\n",
       "      <td>-0.043160</td>\n",
       "      <td>-0.509289</td>\n",
       "      <td>-1.145850</td>\n",
       "      <td>0.0</td>\n",
       "      <td>0.0</td>\n",
       "      <td>0.0</td>\n",
       "      <td>...</td>\n",
       "      <td>0.0</td>\n",
       "      <td>1.0</td>\n",
       "      <td>0.0</td>\n",
       "      <td>0.0</td>\n",
       "      <td>0.0</td>\n",
       "      <td>0.0</td>\n",
       "      <td>0.0</td>\n",
       "      <td>0.0</td>\n",
       "      <td>1.0</td>\n",
       "      <td>0.0</td>\n",
       "    </tr>\n",
       "  </tbody>\n",
       "</table>\n",
       "<p>5 rows × 123 columns</p>\n",
       "</div>"
      ],
      "text/plain": [
       "   customer lifetime value    income  monthly premium auto  \\\n",
       "0                -1.394947  0.691719             -0.850901   \n",
       "1                 0.271651 -1.641026              0.433173   \n",
       "2                 1.114847  0.596805              0.847014   \n",
       "3                 0.408620 -1.641026              0.796044   \n",
       "4                -1.357236  0.528534             -0.572139   \n",
       "\n",
       "   months since last claim  months since policy inception  \\\n",
       "0                 1.464556                      -1.716791   \n",
       "1                -0.040371                      -0.113063   \n",
       "2                 0.416410                      -0.255772   \n",
       "3                 0.416410                       0.644648   \n",
       "4                -0.140125                      -0.043160   \n",
       "\n",
       "   number of open complaints  number of policies  state_Arizona  \\\n",
       "0                  -0.509289           -1.145850            0.0   \n",
       "1                  -0.509289            1.577821            1.0   \n",
       "2                  -0.509289           -0.058430            0.0   \n",
       "3                  -0.509289            1.464360            0.0   \n",
       "4                  -0.509289           -1.145850            0.0   \n",
       "\n",
       "   state_California  state_Nevada  ...  sales channel_Web  \\\n",
       "0               0.0           0.0  ...                0.0   \n",
       "1               0.0           0.0  ...                0.0   \n",
       "2               0.0           1.0  ...                0.0   \n",
       "3               1.0           0.0  ...                0.0   \n",
       "4               0.0           0.0  ...                0.0   \n",
       "\n",
       "   vehicle class_Four-Door Car  vehicle class_Luxury Car  \\\n",
       "0                          0.0                       0.0   \n",
       "1                          1.0                       0.0   \n",
       "2                          0.0                       0.0   \n",
       "3                          0.0                       0.0   \n",
       "4                          1.0                       0.0   \n",
       "\n",
       "   vehicle class_Luxury SUV  vehicle class_SUV  vehicle class_Sports Car  \\\n",
       "0                       0.0                0.0                       0.0   \n",
       "1                       0.0                0.0                       0.0   \n",
       "2                       0.0                0.0                       0.0   \n",
       "3                       0.0                1.0                       0.0   \n",
       "4                       0.0                0.0                       0.0   \n",
       "\n",
       "   vehicle class_Two-Door Car  vehicle size_Large  vehicle size_Medsize  \\\n",
       "0                         1.0                 0.0                   1.0   \n",
       "1                         0.0                 0.0                   1.0   \n",
       "2                         1.0                 0.0                   1.0   \n",
       "3                         0.0                 0.0                   1.0   \n",
       "4                         0.0                 0.0                   1.0   \n",
       "\n",
       "   vehicle size_Small  \n",
       "0                 0.0  \n",
       "1                 0.0  \n",
       "2                 0.0  \n",
       "3                 0.0  \n",
       "4                 0.0  \n",
       "\n",
       "[5 rows x 123 columns]"
      ]
     },
     "execution_count": 44,
     "metadata": {},
     "output_type": "execute_result"
    }
   ],
   "source": [
    "X_f=pd.concat([X_stan, cat_encoded], axis=1)\n",
    "X_f.head()"
   ]
  },
  {
   "cell_type": "code",
   "execution_count": 45,
   "id": "8e90c565",
   "metadata": {},
   "outputs": [
    {
     "name": "stdout",
     "output_type": "stream",
     "text": [
      "(9134, 123)\n",
      "(9134,)\n"
     ]
    }
   ],
   "source": [
    "print(X_f.shape)\n",
    "print(y.shape)"
   ]
  },
  {
   "cell_type": "code",
   "execution_count": 46,
   "id": "f1bd3e6e",
   "metadata": {},
   "outputs": [],
   "source": [
    "from sklearn.model_selection import train_test_split\n",
    "X_train, X_test, y_train, y_test = train_test_split(X_f, y, test_size=0.2, random_state=12)"
   ]
  },
  {
   "cell_type": "code",
   "execution_count": 47,
   "id": "86e4e273",
   "metadata": {},
   "outputs": [
    {
     "name": "stdout",
     "output_type": "stream",
     "text": [
      "(7307, 123)\n",
      "(1827, 123)\n",
      "(7307,)\n",
      "(1827,)\n"
     ]
    }
   ],
   "source": [
    "print(X_train.shape)\n",
    "print(X_test.shape)\n",
    "print(y_train.shape)\n",
    "print(y_test.shape)"
   ]
  },
  {
   "cell_type": "code",
   "execution_count": 48,
   "id": "b68afc2c",
   "metadata": {},
   "outputs": [
    {
     "data": {
      "text/plain": [
       "LinearRegression()"
      ]
     },
     "execution_count": 48,
     "metadata": {},
     "output_type": "execute_result"
    }
   ],
   "source": [
    "lm = LinearRegression()\n",
    "lm.fit(X_train,y_train)"
   ]
  },
  {
   "cell_type": "code",
   "execution_count": 49,
   "id": "3f9c4e12",
   "metadata": {},
   "outputs": [
    {
     "name": "stdout",
     "output_type": "stream",
     "text": [
      "0.760013742199007\n"
     ]
    }
   ],
   "source": [
    "from sklearn.metrics import r2_score, mean_squared_error, mean_absolute_error\n",
    "y_pred_train = lm.predict(X_train)\n",
    "R2_t=r2_score(y_train, y_pred_train)\n",
    "print(R2_t)"
   ]
  },
  {
   "cell_type": "code",
   "execution_count": 50,
   "id": "893dea15",
   "metadata": {},
   "outputs": [
    {
     "name": "stdout",
     "output_type": "stream",
     "text": [
      "0.7631139194273795\n"
     ]
    }
   ],
   "source": [
    "y_pred_test = lm.predict(X_test)\n",
    "R2_r=r2_score(y_test, y_pred_test)\n",
    "print(R2_r)"
   ]
  },
  {
   "cell_type": "code",
   "execution_count": 51,
   "id": "1c06eb5c",
   "metadata": {},
   "outputs": [
    {
     "name": "stdout",
     "output_type": "stream",
     "text": [
      "20087.695225320316\n",
      "20627.550672696387\n"
     ]
    }
   ],
   "source": [
    "mse_t=mean_squared_error(y_train,y_pred_train)\n",
    "mse_r=mean_squared_error(y_test,y_pred_test)\n",
    "print(mse_t)\n",
    "print(mse_r)"
   ]
  },
  {
   "cell_type": "code",
   "execution_count": 52,
   "id": "68dc207a",
   "metadata": {},
   "outputs": [
    {
     "name": "stdout",
     "output_type": "stream",
     "text": [
      "141.731066549717\n",
      "143.62294619139516\n"
     ]
    }
   ],
   "source": [
    "rmse_t=np.sqrt(mean_squared_error(y_train,y_pred_train))\n",
    "rmse_r=np.sqrt(mean_squared_error(y_test,y_pred_test))\n",
    "print(rmse_t)\n",
    "print(rmse_r)"
   ]
  },
  {
   "cell_type": "code",
   "execution_count": 53,
   "id": "c710012d",
   "metadata": {},
   "outputs": [
    {
     "name": "stdout",
     "output_type": "stream",
     "text": [
      "96.39563344313673\n",
      "99.80720144061303\n"
     ]
    }
   ],
   "source": [
    "mae_t=mean_absolute_error(y_train, y_pred_train)\n",
    "mae_r=mean_absolute_error(y_test, y_pred_test)\n",
    "print(mae_t)\n",
    "print(mae_r)"
   ]
  },
  {
   "cell_type": "markdown",
   "id": "7c74b8be",
   "metadata": {},
   "source": [
    "''''"
   ]
  },
  {
   "cell_type": "markdown",
   "id": "f3e146ad",
   "metadata": {},
   "source": [
    "LAB 7 STARTS HERE"
   ]
  },
  {
   "cell_type": "code",
   "execution_count": 54,
   "id": "aa889f6a",
   "metadata": {},
   "outputs": [
    {
     "data": {
      "text/plain": [
       "<seaborn.axisgrid.FacetGrid at 0x28e3a4a14c0>"
      ]
     },
     "execution_count": 54,
     "metadata": {},
     "output_type": "execute_result"
    },
    {
     "data": {
      "image/png": "[encoded data removed]",
      "text/plain": [
       "<Figure size 360x360 with 1 Axes>"
      ]
     },
     "metadata": {
      "needs_background": "light"
     },
     "output_type": "display_data"
    }
   ],
   "source": [
    "sns.displot(y)"
   ]
  },
  {
   "cell_type": "code",
   "execution_count": 55,
   "id": "e7af215e",
   "metadata": {},
   "outputs": [],
   "source": [
    "new_num=numerical.copy()"
   ]
  },
  {
   "cell_type": "code",
   "execution_count": 56,
   "id": "fc447834",
   "metadata": {},
   "outputs": [
    {
     "data": {
      "image/png": "[encoded data removed]",
      "text/plain": [
       "<Figure size 360x360 with 1 Axes>"
      ]
     },
     "metadata": {
      "needs_background": "light"
     },
     "output_type": "display_data"
    },
    {
     "data": {
      "image/png": "[encoded data removed]",
      "text/plain": [
       "<Figure size 360x360 with 1 Axes>"
      ]
     },
     "metadata": {
      "needs_background": "light"
     },
     "output_type": "display_data"
    },
    {
     "data": {
      "image/png": "[encoded data removed]",
      "text/plain": [
       "<Figure size 360x360 with 1 Axes>"
      ]
     },
     "metadata": {
      "needs_background": "light"
     },
     "output_type": "display_data"
    },
    {
     "data": {
      "image/png": "[encoded data removed]",
      "text/plain": [
       "<Figure size 360x360 with 1 Axes>"
      ]
     },
     "metadata": {
      "needs_background": "light"
     },
     "output_type": "display_data"
    },
    {
     "data": {
      "image/png": "[encoded data removed]",
      "text/plain": [
       "<Figure size 360x360 with 1 Axes>"
      ]
     },
     "metadata": {
      "needs_background": "light"
     },
     "output_type": "display_data"
    },
    {
     "data": {
      "image/png": "[encoded data removed]",
      "text/plain": [
       "<Figure size 360x360 with 1 Axes>"
      ]
     },
     "metadata": {
      "needs_background": "light"
     },
     "output_type": "display_data"
    },
    {
     "data": {
      "image/png": "[encoded data removed]",
      "text/plain": [
       "<Figure size 360x360 with 1 Axes>"
      ]
     },
     "metadata": {
      "needs_background": "light"
     },
     "output_type": "display_data"
    },
    {
     "data": {
      "image/png": "[encoded data removed]",
      "text/plain": [
       "<Figure size 360x360 with 1 Axes>"
      ]
     },
     "metadata": {
      "needs_background": "light"
     },
     "output_type": "display_data"
    }
   ],
   "source": [
    "for col in numerical.columns:\n",
    "    sns.displot(numerical[col])\n",
    "    plt.show()"
   ]
  },
  {
   "cell_type": "code",
   "execution_count": 57,
   "id": "82a1d9c1",
   "metadata": {
    "scrolled": false
   },
   "outputs": [
    {
     "data": {
      "text/html": [
       "<div>\n",
       "<style scoped>\n",
       "    .dataframe tbody tr th:only-of-type {\n",
       "        vertical-align: middle;\n",
       "    }\n",
       "\n",
       "    .dataframe tbody tr th {\n",
       "        vertical-align: top;\n",
       "    }\n",
       "\n",
       "    .dataframe thead th {\n",
       "        text-align: right;\n",
       "    }\n",
       "</style>\n",
       "<table border=\"1\" class=\"dataframe\">\n",
       "  <thead>\n",
       "    <tr style=\"text-align: right;\">\n",
       "      <th></th>\n",
       "      <th>customer lifetime value</th>\n",
       "      <th>income</th>\n",
       "      <th>monthly premium auto</th>\n",
       "      <th>months since last claim</th>\n",
       "      <th>months since policy inception</th>\n",
       "      <th>number of open complaints</th>\n",
       "      <th>number of policies</th>\n",
       "      <th>total claim amount</th>\n",
       "    </tr>\n",
       "  </thead>\n",
       "  <tbody>\n",
       "    <tr>\n",
       "      <th>0</th>\n",
       "      <td>2763.519279</td>\n",
       "      <td>56274</td>\n",
       "      <td>69</td>\n",
       "      <td>32</td>\n",
       "      <td>5</td>\n",
       "      <td>0</td>\n",
       "      <td>1</td>\n",
       "      <td>384.811147</td>\n",
       "    </tr>\n",
       "    <tr>\n",
       "      <th>1</th>\n",
       "      <td>6979.535903</td>\n",
       "      <td>0</td>\n",
       "      <td>94</td>\n",
       "      <td>13</td>\n",
       "      <td>42</td>\n",
       "      <td>0</td>\n",
       "      <td>8</td>\n",
       "      <td>1131.464935</td>\n",
       "    </tr>\n",
       "    <tr>\n",
       "      <th>2</th>\n",
       "      <td>12887.431650</td>\n",
       "      <td>48767</td>\n",
       "      <td>108</td>\n",
       "      <td>18</td>\n",
       "      <td>38</td>\n",
       "      <td>0</td>\n",
       "      <td>2</td>\n",
       "      <td>566.472247</td>\n",
       "    </tr>\n",
       "    <tr>\n",
       "      <th>3</th>\n",
       "      <td>7645.861827</td>\n",
       "      <td>0</td>\n",
       "      <td>106</td>\n",
       "      <td>18</td>\n",
       "      <td>65</td>\n",
       "      <td>0</td>\n",
       "      <td>7</td>\n",
       "      <td>529.881344</td>\n",
       "    </tr>\n",
       "    <tr>\n",
       "      <th>4</th>\n",
       "      <td>2813.692575</td>\n",
       "      <td>43836</td>\n",
       "      <td>73</td>\n",
       "      <td>12</td>\n",
       "      <td>44</td>\n",
       "      <td>0</td>\n",
       "      <td>1</td>\n",
       "      <td>138.130879</td>\n",
       "    </tr>\n",
       "  </tbody>\n",
       "</table>\n",
       "</div>"
      ],
      "text/plain": [
       "   customer lifetime value  income  monthly premium auto  \\\n",
       "0              2763.519279   56274                    69   \n",
       "1              6979.535903       0                    94   \n",
       "2             12887.431650   48767                   108   \n",
       "3              7645.861827       0                   106   \n",
       "4              2813.692575   43836                    73   \n",
       "\n",
       "   months since last claim  months since policy inception  \\\n",
       "0                       32                              5   \n",
       "1                       13                             42   \n",
       "2                       18                             38   \n",
       "3                       18                             65   \n",
       "4                       12                             44   \n",
       "\n",
       "   number of open complaints  number of policies  total claim amount  \n",
       "0                          0                   1          384.811147  \n",
       "1                          0                   8         1131.464935  \n",
       "2                          0                   2          566.472247  \n",
       "3                          0                   7          529.881344  \n",
       "4                          0                   1          138.130879  "
      ]
     },
     "execution_count": 57,
     "metadata": {},
     "output_type": "execute_result"
    }
   ],
   "source": [
    "new_num.head()"
   ]
  },
  {
   "cell_type": "code",
   "execution_count": 58,
   "id": "897c52fb",
   "metadata": {},
   "outputs": [],
   "source": [
    "from sklearn.preprocessing import PowerTransformer, MinMaxScaler, StandardScaler\n",
    "pt = PowerTransformer()\n",
    "mms = MinMaxScaler()\n",
    "ss= StandardScaler()"
   ]
  },
  {
   "cell_type": "code",
   "execution_count": 60,
   "id": "33997637",
   "metadata": {},
   "outputs": [],
   "source": [
    "pt.fit(new_num)\n",
    "num_tran = pt.transform(new_num)\n",
    "num_tran=pd.DataFrame(num_tran)\n",
    "num_tran.columns=new_num.columns"
   ]
  },
  {
   "cell_type": "code",
   "execution_count": 61,
   "id": "caa08204",
   "metadata": {},
   "outputs": [],
   "source": [
    "mms.fit(num_tran)\n",
    "num_norm = mms.transform(num_tran)\n",
    "num_norm=pd.DataFrame(num_norm)\n",
    "num_norm.columns=new_num.columns"
   ]
  },
  {
   "cell_type": "code",
   "execution_count": 62,
   "id": "a9d49c26",
   "metadata": {},
   "outputs": [],
   "source": [
    "ss.fit(num_norm)\n",
    "num_stan = ss.transform(num_norm)\n",
    "num_stan=pd.DataFrame(num_stan)\n",
    "num_stan.columns=new_num.columns"
   ]
  },
  {
   "cell_type": "code",
   "execution_count": 63,
   "id": "e78d9d99",
   "metadata": {},
   "outputs": [
    {
     "data": {
      "text/html": [
       "<div>\n",
       "<style scoped>\n",
       "    .dataframe tbody tr th:only-of-type {\n",
       "        vertical-align: middle;\n",
       "    }\n",
       "\n",
       "    .dataframe tbody tr th {\n",
       "        vertical-align: top;\n",
       "    }\n",
       "\n",
       "    .dataframe thead th {\n",
       "        text-align: right;\n",
       "    }\n",
       "</style>\n",
       "<table border=\"1\" class=\"dataframe\">\n",
       "  <thead>\n",
       "    <tr style=\"text-align: right;\">\n",
       "      <th></th>\n",
       "      <th>count</th>\n",
       "      <th>mean</th>\n",
       "      <th>std</th>\n",
       "      <th>min</th>\n",
       "      <th>25%</th>\n",
       "      <th>50%</th>\n",
       "      <th>75%</th>\n",
       "      <th>max</th>\n",
       "    </tr>\n",
       "  </thead>\n",
       "  <tbody>\n",
       "    <tr>\n",
       "      <th>customer lifetime value</th>\n",
       "      <td>9134.0</td>\n",
       "      <td>5.649569e-17</td>\n",
       "      <td>1.000055</td>\n",
       "      <td>-2.238398</td>\n",
       "      <td>-0.667814</td>\n",
       "      <td>-0.025657</td>\n",
       "      <td>0.637148</td>\n",
       "      <td>2.811682</td>\n",
       "    </tr>\n",
       "    <tr>\n",
       "      <th>income</th>\n",
       "      <td>9134.0</td>\n",
       "      <td>-1.972730e-16</td>\n",
       "      <td>1.000055</td>\n",
       "      <td>-1.641026</td>\n",
       "      <td>-1.641026</td>\n",
       "      <td>0.371748</td>\n",
       "      <td>0.761691</td>\n",
       "      <td>1.112755</td>\n",
       "    </tr>\n",
       "    <tr>\n",
       "      <th>monthly premium auto</th>\n",
       "      <td>9134.0</td>\n",
       "      <td>-1.864431e-16</td>\n",
       "      <td>1.000055</td>\n",
       "      <td>-1.545512</td>\n",
       "      <td>-0.926893</td>\n",
       "      <td>-0.015822</td>\n",
       "      <td>0.871640</td>\n",
       "      <td>2.270116</td>\n",
       "    </tr>\n",
       "    <tr>\n",
       "      <th>months since last claim</th>\n",
       "      <td>9134.0</td>\n",
       "      <td>-9.157456e-17</td>\n",
       "      <td>1.000055</td>\n",
       "      <td>-1.952966</td>\n",
       "      <td>-0.832056</td>\n",
       "      <td>0.056223</td>\n",
       "      <td>0.821478</td>\n",
       "      <td>1.660758</td>\n",
       "    </tr>\n",
       "    <tr>\n",
       "      <th>months since policy inception</th>\n",
       "      <td>9134.0</td>\n",
       "      <td>1.968355e-16</td>\n",
       "      <td>1.000055</td>\n",
       "      <td>-2.095014</td>\n",
       "      <td>-0.793936</td>\n",
       "      <td>0.094013</td>\n",
       "      <td>0.828771</td>\n",
       "      <td>1.636206</td>\n",
       "    </tr>\n",
       "    <tr>\n",
       "      <th>number of open complaints</th>\n",
       "      <td>9134.0</td>\n",
       "      <td>1.183274e-15</td>\n",
       "      <td>1.000055</td>\n",
       "      <td>-0.509289</td>\n",
       "      <td>-0.509289</td>\n",
       "      <td>-0.509289</td>\n",
       "      <td>-0.509289</td>\n",
       "      <td>2.026024</td>\n",
       "    </tr>\n",
       "    <tr>\n",
       "      <th>number of policies</th>\n",
       "      <td>9134.0</td>\n",
       "      <td>7.951696e-17</td>\n",
       "      <td>1.000055</td>\n",
       "      <td>-1.145850</td>\n",
       "      <td>-1.145850</td>\n",
       "      <td>-0.058430</td>\n",
       "      <td>0.884748</td>\n",
       "      <td>1.670427</td>\n",
       "    </tr>\n",
       "    <tr>\n",
       "      <th>total claim amount</th>\n",
       "      <td>9134.0</td>\n",
       "      <td>-8.626138e-17</td>\n",
       "      <td>1.000055</td>\n",
       "      <td>-2.821922</td>\n",
       "      <td>-0.444420</td>\n",
       "      <td>0.003195</td>\n",
       "      <td>0.547737</td>\n",
       "      <td>4.749093</td>\n",
       "    </tr>\n",
       "  </tbody>\n",
       "</table>\n",
       "</div>"
      ],
      "text/plain": [
       "                                count          mean       std       min  \\\n",
       "customer lifetime value        9134.0  5.649569e-17  1.000055 -2.238398   \n",
       "income                         9134.0 -1.972730e-16  1.000055 -1.641026   \n",
       "monthly premium auto           9134.0 -1.864431e-16  1.000055 -1.545512   \n",
       "months since last claim        9134.0 -9.157456e-17  1.000055 -1.952966   \n",
       "months since policy inception  9134.0  1.968355e-16  1.000055 -2.095014   \n",
       "number of open complaints      9134.0  1.183274e-15  1.000055 -0.509289   \n",
       "number of policies             9134.0  7.951696e-17  1.000055 -1.145850   \n",
       "total claim amount             9134.0 -8.626138e-17  1.000055 -2.821922   \n",
       "\n",
       "                                    25%       50%       75%       max  \n",
       "customer lifetime value       -0.667814 -0.025657  0.637148  2.811682  \n",
       "income                        -1.641026  0.371748  0.761691  1.112755  \n",
       "monthly premium auto          -0.926893 -0.015822  0.871640  2.270116  \n",
       "months since last claim       -0.832056  0.056223  0.821478  1.660758  \n",
       "months since policy inception -0.793936  0.094013  0.828771  1.636206  \n",
       "number of open complaints     -0.509289 -0.509289 -0.509289  2.026024  \n",
       "number of policies            -1.145850 -0.058430  0.884748  1.670427  \n",
       "total claim amount            -0.444420  0.003195  0.547737  4.749093  "
      ]
     },
     "execution_count": 63,
     "metadata": {},
     "output_type": "execute_result"
    }
   ],
   "source": [
    "num_stan.describe().T"
   ]
  },
  {
   "cell_type": "code",
   "execution_count": 64,
   "id": "4cb69ab0",
   "metadata": {},
   "outputs": [
    {
     "data": {
      "image/png": "[encoded data removed]",
      "text/plain": [
       "<Figure size 360x360 with 1 Axes>"
      ]
     },
     "metadata": {
      "needs_background": "light"
     },
     "output_type": "display_data"
    },
    {
     "data": {
      "image/png": "[encoded data removed]",
      "text/plain": [
       "<Figure size 360x360 with 1 Axes>"
      ]
     },
     "metadata": {
      "needs_background": "light"
     },
     "output_type": "display_data"
    },
    {
     "data": {
      "image/png": "[encoded data removed]",
      "text/plain": [
       "<Figure size 360x360 with 1 Axes>"
      ]
     },
     "metadata": {
      "needs_background": "light"
     },
     "output_type": "display_data"
    },
    {
     "data": {
      "image/png": "[encoded data removed]",
      "text/plain": [
       "<Figure size 360x360 with 1 Axes>"
      ]
     },
     "metadata": {
      "needs_background": "light"
     },
     "output_type": "display_data"
    },
    {
     "data": {
      "image/png": "[encoded data removed]",
      "text/plain": [
       "<Figure size 360x360 with 1 Axes>"
      ]
     },
     "metadata": {
      "needs_background": "light"
     },
     "output_type": "display_data"
    },
    {
     "data": {
      "image/png": "[encoded data removed]",
      "text/plain": [
       "<Figure size 360x360 with 1 Axes>"
      ]
     },
     "metadata": {
      "needs_background": "light"
     },
     "output_type": "display_data"
    },
    {
     "data": {
      "image/png": "[encoded data removed]",
      "text/plain": [
       "<Figure size 360x360 with 1 Axes>"
      ]
     },
     "metadata": {
      "needs_background": "light"
     },
     "output_type": "display_data"
    },
    {
     "data": {
      "image/png": "[encoded data removed]",
      "text/plain": [
       "<Figure size 360x360 with 1 Axes>"
      ]
     },
     "metadata": {
      "needs_background": "light"
     },
     "output_type": "display_data"
    }
   ],
   "source": [
    "for col in num_stan.columns:\n",
    "    sns.displot(num_stan[col])"
   ]
  },
  {
   "cell_type": "code",
   "execution_count": 65,
   "id": "3a98c2a9",
   "metadata": {},
   "outputs": [
    {
     "data": {
      "image/png": "[encoded data removed]",
      "text/plain": [
       "<Figure size 720x576 with 2 Axes>"
      ]
     },
     "metadata": {
      "needs_background": "light"
     },
     "output_type": "display_data"
    }
   ],
   "source": [
    "num_stan_corr=num_stan.corr()\n",
    "fig, ax = plt.subplots(figsize=(10, 8))\n",
    "sns.heatmap(num_stan_corr, annot=True, ax = ax)\n",
    "plt.show()"
   ]
  },
  {
   "cell_type": "code",
   "execution_count": 66,
   "id": "50793b8c",
   "metadata": {},
   "outputs": [
    {
     "data": {
      "text/plain": [
       "(9134,)"
      ]
     },
     "metadata": {},
     "output_type": "display_data"
    },
    {
     "data": {
      "text/plain": [
       "(9134, 3)"
      ]
     },
     "metadata": {},
     "output_type": "display_data"
    }
   ],
   "source": [
    "y_n=num_stan['total claim amount']\n",
    "X_n=num_stan[['customer lifetime value', 'income','monthly premium auto']]\n",
    "display(y_n.shape)\n",
    "display(X_n.shape)"
   ]
  },
  {
   "cell_type": "code",
   "execution_count": 67,
   "id": "6dd81e30",
   "metadata": {},
   "outputs": [
    {
     "data": {
      "text/html": [
       "<div>\n",
       "<style scoped>\n",
       "    .dataframe tbody tr th:only-of-type {\n",
       "        vertical-align: middle;\n",
       "    }\n",
       "\n",
       "    .dataframe tbody tr th {\n",
       "        vertical-align: top;\n",
       "    }\n",
       "\n",
       "    .dataframe thead th {\n",
       "        text-align: right;\n",
       "    }\n",
       "</style>\n",
       "<table border=\"1\" class=\"dataframe\">\n",
       "  <thead>\n",
       "    <tr style=\"text-align: right;\">\n",
       "      <th></th>\n",
       "      <th>customer lifetime value</th>\n",
       "      <th>income</th>\n",
       "      <th>monthly premium auto</th>\n",
       "      <th>state_Arizona</th>\n",
       "      <th>state_California</th>\n",
       "      <th>state_Nevada</th>\n",
       "      <th>state_Oregon</th>\n",
       "      <th>state_Washington</th>\n",
       "      <th>response_No</th>\n",
       "      <th>response_Yes</th>\n",
       "      <th>...</th>\n",
       "      <th>sales channel_Web</th>\n",
       "      <th>vehicle class_Four-Door Car</th>\n",
       "      <th>vehicle class_Luxury Car</th>\n",
       "      <th>vehicle class_Luxury SUV</th>\n",
       "      <th>vehicle class_SUV</th>\n",
       "      <th>vehicle class_Sports Car</th>\n",
       "      <th>vehicle class_Two-Door Car</th>\n",
       "      <th>vehicle size_Large</th>\n",
       "      <th>vehicle size_Medsize</th>\n",
       "      <th>vehicle size_Small</th>\n",
       "    </tr>\n",
       "  </thead>\n",
       "  <tbody>\n",
       "    <tr>\n",
       "      <th>9129</th>\n",
       "      <td>1.780246</td>\n",
       "      <td>0.863520</td>\n",
       "      <td>-0.572139</td>\n",
       "      <td>0.0</td>\n",
       "      <td>1.0</td>\n",
       "      <td>0.0</td>\n",
       "      <td>0.0</td>\n",
       "      <td>0.0</td>\n",
       "      <td>1.0</td>\n",
       "      <td>0.0</td>\n",
       "      <td>...</td>\n",
       "      <td>1.0</td>\n",
       "      <td>1.0</td>\n",
       "      <td>0.0</td>\n",
       "      <td>0.0</td>\n",
       "      <td>0.0</td>\n",
       "      <td>0.0</td>\n",
       "      <td>0.0</td>\n",
       "      <td>0.0</td>\n",
       "      <td>1.0</td>\n",
       "      <td>0.0</td>\n",
       "    </tr>\n",
       "    <tr>\n",
       "      <th>9130</th>\n",
       "      <td>-1.160398</td>\n",
       "      <td>0.122833</td>\n",
       "      <td>-0.217718</td>\n",
       "      <td>0.0</td>\n",
       "      <td>1.0</td>\n",
       "      <td>0.0</td>\n",
       "      <td>0.0</td>\n",
       "      <td>0.0</td>\n",
       "      <td>0.0</td>\n",
       "      <td>1.0</td>\n",
       "      <td>...</td>\n",
       "      <td>0.0</td>\n",
       "      <td>1.0</td>\n",
       "      <td>0.0</td>\n",
       "      <td>0.0</td>\n",
       "      <td>0.0</td>\n",
       "      <td>0.0</td>\n",
       "      <td>0.0</td>\n",
       "      <td>0.0</td>\n",
       "      <td>1.0</td>\n",
       "      <td>0.0</td>\n",
       "    </tr>\n",
       "    <tr>\n",
       "      <th>9131</th>\n",
       "      <td>0.504458</td>\n",
       "      <td>-1.641026</td>\n",
       "      <td>0.076464</td>\n",
       "      <td>0.0</td>\n",
       "      <td>1.0</td>\n",
       "      <td>0.0</td>\n",
       "      <td>0.0</td>\n",
       "      <td>0.0</td>\n",
       "      <td>1.0</td>\n",
       "      <td>0.0</td>\n",
       "      <td>...</td>\n",
       "      <td>0.0</td>\n",
       "      <td>1.0</td>\n",
       "      <td>0.0</td>\n",
       "      <td>0.0</td>\n",
       "      <td>0.0</td>\n",
       "      <td>0.0</td>\n",
       "      <td>0.0</td>\n",
       "      <td>0.0</td>\n",
       "      <td>1.0</td>\n",
       "      <td>0.0</td>\n",
       "    </tr>\n",
       "    <tr>\n",
       "      <th>9132</th>\n",
       "      <td>0.384885</td>\n",
       "      <td>0.130888</td>\n",
       "      <td>0.501425</td>\n",
       "      <td>0.0</td>\n",
       "      <td>1.0</td>\n",
       "      <td>0.0</td>\n",
       "      <td>0.0</td>\n",
       "      <td>0.0</td>\n",
       "      <td>1.0</td>\n",
       "      <td>0.0</td>\n",
       "      <td>...</td>\n",
       "      <td>0.0</td>\n",
       "      <td>1.0</td>\n",
       "      <td>0.0</td>\n",
       "      <td>0.0</td>\n",
       "      <td>0.0</td>\n",
       "      <td>0.0</td>\n",
       "      <td>0.0</td>\n",
       "      <td>1.0</td>\n",
       "      <td>0.0</td>\n",
       "      <td>0.0</td>\n",
       "    </tr>\n",
       "    <tr>\n",
       "      <th>9133</th>\n",
       "      <td>-1.514795</td>\n",
       "      <td>-1.641026</td>\n",
       "      <td>-0.328367</td>\n",
       "      <td>0.0</td>\n",
       "      <td>1.0</td>\n",
       "      <td>0.0</td>\n",
       "      <td>0.0</td>\n",
       "      <td>0.0</td>\n",
       "      <td>1.0</td>\n",
       "      <td>0.0</td>\n",
       "      <td>...</td>\n",
       "      <td>0.0</td>\n",
       "      <td>0.0</td>\n",
       "      <td>0.0</td>\n",
       "      <td>0.0</td>\n",
       "      <td>0.0</td>\n",
       "      <td>0.0</td>\n",
       "      <td>1.0</td>\n",
       "      <td>0.0</td>\n",
       "      <td>1.0</td>\n",
       "      <td>0.0</td>\n",
       "    </tr>\n",
       "  </tbody>\n",
       "</table>\n",
       "<p>5 rows × 119 columns</p>\n",
       "</div>"
      ],
      "text/plain": [
       "      customer lifetime value    income  monthly premium auto  state_Arizona  \\\n",
       "9129                 1.780246  0.863520             -0.572139            0.0   \n",
       "9130                -1.160398  0.122833             -0.217718            0.0   \n",
       "9131                 0.504458 -1.641026              0.076464            0.0   \n",
       "9132                 0.384885  0.130888              0.501425            0.0   \n",
       "9133                -1.514795 -1.641026             -0.328367            0.0   \n",
       "\n",
       "      state_California  state_Nevada  state_Oregon  state_Washington  \\\n",
       "9129               1.0           0.0           0.0               0.0   \n",
       "9130               1.0           0.0           0.0               0.0   \n",
       "9131               1.0           0.0           0.0               0.0   \n",
       "9132               1.0           0.0           0.0               0.0   \n",
       "9133               1.0           0.0           0.0               0.0   \n",
       "\n",
       "      response_No  response_Yes  ...  sales channel_Web  \\\n",
       "9129          1.0           0.0  ...                1.0   \n",
       "9130          0.0           1.0  ...                0.0   \n",
       "9131          1.0           0.0  ...                0.0   \n",
       "9132          1.0           0.0  ...                0.0   \n",
       "9133          1.0           0.0  ...                0.0   \n",
       "\n",
       "      vehicle class_Four-Door Car  vehicle class_Luxury Car  \\\n",
       "9129                          1.0                       0.0   \n",
       "9130                          1.0                       0.0   \n",
       "9131                          1.0                       0.0   \n",
       "9132                          1.0                       0.0   \n",
       "9133                          0.0                       0.0   \n",
       "\n",
       "      vehicle class_Luxury SUV  vehicle class_SUV  vehicle class_Sports Car  \\\n",
       "9129                       0.0                0.0                       0.0   \n",
       "9130                       0.0                0.0                       0.0   \n",
       "9131                       0.0                0.0                       0.0   \n",
       "9132                       0.0                0.0                       0.0   \n",
       "9133                       0.0                0.0                       0.0   \n",
       "\n",
       "      vehicle class_Two-Door Car  vehicle size_Large  vehicle size_Medsize  \\\n",
       "9129                         0.0                 0.0                   1.0   \n",
       "9130                         0.0                 0.0                   1.0   \n",
       "9131                         0.0                 0.0                   1.0   \n",
       "9132                         0.0                 1.0                   0.0   \n",
       "9133                         1.0                 0.0                   1.0   \n",
       "\n",
       "      vehicle size_Small  \n",
       "9129                 0.0  \n",
       "9130                 0.0  \n",
       "9131                 0.0  \n",
       "9132                 0.0  \n",
       "9133                 0.0  \n",
       "\n",
       "[5 rows x 119 columns]"
      ]
     },
     "execution_count": 67,
     "metadata": {},
     "output_type": "execute_result"
    }
   ],
   "source": [
    "X_nf=pd.concat([X_n, cat_encoded], axis=1)\n",
    "X_nf.tail()"
   ]
  },
  {
   "cell_type": "code",
   "execution_count": 82,
   "id": "fb87cc1e",
   "metadata": {},
   "outputs": [],
   "source": [
    "from sklearn.model_selection import train_test_split\n",
    "X_n_train, X_n_test, y_n_train, y_n_test = train_test_split(X_nf, y, test_size=0.3, random_state=25)"
   ]
  },
  {
   "cell_type": "code",
   "execution_count": 83,
   "id": "af5164e4",
   "metadata": {},
   "outputs": [
    {
     "name": "stdout",
     "output_type": "stream",
     "text": [
      "(6393, 119)\n",
      "(2741, 119)\n",
      "(6393,)\n",
      "(2741,)\n"
     ]
    }
   ],
   "source": [
    "print(X_n_train.shape)\n",
    "print(X_n_test.shape)\n",
    "print(y_n_train.shape)\n",
    "print(y_n_test.shape)"
   ]
  },
  {
   "cell_type": "code",
   "execution_count": 84,
   "id": "5ba44705",
   "metadata": {},
   "outputs": [
    {
     "name": "stdout",
     "output_type": "stream",
     "text": [
      "(7307, 123)\n",
      "(1827, 123)\n",
      "(7307,)\n",
      "(1827,)\n"
     ]
    }
   ],
   "source": [
    "print(X_train.shape)\n",
    "print(X_test.shape)\n",
    "print(y_train.shape)\n",
    "print(y_test.shape)"
   ]
  },
  {
   "cell_type": "code",
   "execution_count": 85,
   "id": "a889276f",
   "metadata": {},
   "outputs": [
    {
     "data": {
      "text/plain": [
       "LinearRegression()"
      ]
     },
     "execution_count": 85,
     "metadata": {},
     "output_type": "execute_result"
    }
   ],
   "source": [
    "lm = LinearRegression()\n",
    "lm.fit(X_n_train,y_n_train)"
   ]
  },
  {
   "cell_type": "code",
   "execution_count": 96,
   "id": "06638375",
   "metadata": {},
   "outputs": [
    {
     "name": "stdout",
     "output_type": "stream",
     "text": [
      "new train r2 score is 0.7678919640654266\n",
      "old train r2 scrore is 0.760013742199007\n"
     ]
    }
   ],
   "source": [
    "y_n_pred_train = lm.predict(X_n_train)\n",
    "R2_nt=r2_score(y_n_train, y_n_pred_train)\n",
    "print(f'new train r2 score is: {R2_nt}')\n",
    "print(f'old train r2 score is: {R2_t}')"
   ]
  },
  {
   "cell_type": "code",
   "execution_count": 97,
   "id": "69dd92f7",
   "metadata": {},
   "outputs": [
    {
     "name": "stdout",
     "output_type": "stream",
     "text": [
      "new test r2 score is: 0.760013742199007\n",
      "old test r2 score is: 0.760013742199007\n"
     ]
    }
   ],
   "source": [
    "y_n_pred_test = lm.predict(X_n_test)\n",
    "R2_nr=r2_score(y_n_test, y_n_pred_test)\n",
    "print(f'new test r2 score is: {R2_t}')\n",
    "print(f'old test r2 score is: {R2_t}')"
   ]
  },
  {
   "cell_type": "code",
   "execution_count": 98,
   "id": "96088a54",
   "metadata": {},
   "outputs": [
    {
     "name": "stdout",
     "output_type": "stream",
     "text": [
      "new train mse is: 20677.671332154812\n",
      "old train mse is: 20087.695225320316\n"
     ]
    }
   ],
   "source": [
    "mse_nt=mean_squared_error(y_n_train,y_n_pred_train)\n",
    "mse_nr=mean_squared_error(y_n_test,y_n_pred_test)\n",
    "print(f'new train mse is: {mse_nt}')\n",
    "print(f'old train mse is: {mse_t}')"
   ]
  },
  {
   "cell_type": "code",
   "execution_count": 99,
   "id": "7bf5c103",
   "metadata": {},
   "outputs": [
    {
     "name": "stdout",
     "output_type": "stream",
     "text": [
      "new test mse is: 19460.46390510988\n",
      "old test mse is: 19460.46390510988\n"
     ]
    }
   ],
   "source": [
    "print(f'new test mse is: {mse_nr}')\n",
    "print(f'old test mse is: {mse_r}')"
   ]
  },
  {
   "cell_type": "code",
   "execution_count": 100,
   "id": "d68f287e",
   "metadata": {},
   "outputs": [
    {
     "name": "stdout",
     "output_type": "stream",
     "text": [
      "new train rmse is: 143.79732727750823\n",
      "old train rmse is: 141.731066549717\n"
     ]
    }
   ],
   "source": [
    "rmse_nt=np.sqrt(mean_squared_error(y_n_train,y_n_pred_train))\n",
    "rmse_nr=np.sqrt(mean_squared_error(y_n_test,y_n_pred_test))\n",
    "print(f'new train rmse is: {rmse_nt}')\n",
    "print(f'old train rmse is: {rmse_t}')"
   ]
  },
  {
   "cell_type": "code",
   "execution_count": 101,
   "id": "2f66fa90",
   "metadata": {},
   "outputs": [
    {
     "name": "stdout",
     "output_type": "stream",
     "text": [
      "new test rmse is: 139.50076668287483\n",
      "old test rmse is: 143.62294619139516\n"
     ]
    }
   ],
   "source": [
    "print(f'new test rmse is: {rmse_nr}')\n",
    "print(f'old test rmse is: {rmse_r}')"
   ]
  },
  {
   "cell_type": "code",
   "execution_count": 102,
   "id": "1ac3e317",
   "metadata": {},
   "outputs": [
    {
     "name": "stdout",
     "output_type": "stream",
     "text": [
      "new train mae is: 97.63514616033162\n",
      "old train mae is: 96.39563344313673\n"
     ]
    }
   ],
   "source": [
    "mae_nt=mean_absolute_error(y_n_train, y_n_pred_train)\n",
    "mae_nr=mean_absolute_error(y_n_test, y_n_pred_test)\n",
    "print(f'new train mae is: {mae_nt}')\n",
    "print(f'old train mae is: {mae_t}')"
   ]
  },
  {
   "cell_type": "code",
   "execution_count": 103,
   "id": "96a5bd64",
   "metadata": {},
   "outputs": [
    {
     "name": "stdout",
     "output_type": "stream",
     "text": [
      "new test mae is: 97.4197182572054\n",
      "old test mae is: 99.80720144061303\n"
     ]
    }
   ],
   "source": [
    "print(f'new test mae is: {mae_nr}')\n",
    "print(f'old test mae is: {mae_r}')"
   ]
  },
  {
   "cell_type": "code",
   "execution_count": null,
   "id": "9793cc0a",
   "metadata": {},
   "outputs": [],
   "source": []
  }
 ],
 "metadata": {
  "kernelspec": {
   "display_name": "Python 3 (ipykernel)",
   "language": "python",
   "name": "python3"
  },
  "language_info": {
   "codemirror_mode": {
    "name": "ipython",
    "version": 3
   },
   "file_extension": ".py",
   "mimetype": "text/x-python",
   "name": "python",
   "nbconvert_exporter": "python",
   "pygments_lexer": "ipython3",
   "version": "3.9.12"
  }
 },
 "nbformat": 4,
 "nbformat_minor": 5
}
